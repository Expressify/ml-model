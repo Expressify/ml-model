{
  "nbformat": 4,
  "nbformat_minor": 0,
  "metadata": {
    "colab": {
      "provenance": [],
      "toc_visible": true
    },
    "kernelspec": {
      "name": "python3",
      "display_name": "Python 3"
    },
    "language_info": {
      "name": "python"
    }
  },
  "cells": [
    {
      "cell_type": "code",
      "source": [
        "import pandas as pd\n",
        "import numpy as np\n",
        "import seaborn as sns\n",
        "import matplotlib.pyplot as plt"
      ],
      "metadata": {
        "id": "SO-8lPtHw9Jl"
      },
      "execution_count": null,
      "outputs": []
    },
    {
      "cell_type": "code",
      "execution_count": null,
      "metadata": {
        "id": "qvWhmlcPw60w"
      },
      "outputs": [],
      "source": [
        "data=pd.read_excel('/content/drive/MyDrive/Capstone/data_fix_bersih_v5.xlsx')"
      ]
    },
    {
      "cell_type": "code",
      "source": [
        "data.label.value_counts()"
      ],
      "metadata": {
        "colab": {
          "base_uri": "https://localhost:8080/"
        },
        "id": "U0i_U7fAw-Cr",
        "outputId": "02e45bf9-5690-4f7a-cfaa-4a809e888075"
      },
      "execution_count": null,
      "outputs": [
        {
          "output_type": "execute_result",
          "data": {
            "text/plain": [
              "0    649\n",
              "1    580\n",
              "Name: label, dtype: int64"
            ]
          },
          "metadata": {},
          "execution_count": 94
        }
      ]
    },
    {
      "cell_type": "markdown",
      "source": [
        "# Preprocessing"
      ],
      "metadata": {
        "id": "NpCiG1SsxKaP"
      }
    },
    {
      "cell_type": "code",
      "source": [
        "!pip install Sastrawi"
      ],
      "metadata": {
        "id": "0wtWUvnJhWVv"
      },
      "execution_count": null,
      "outputs": []
    },
    {
      "cell_type": "code",
      "source": [
        "import regex as re\n",
        "import pandas as pd\n",
        "from nltk.corpus import stopwords\n",
        "import nltk\n",
        "nltk.download('stopwords')\n",
        "\n",
        "#indonesian slang word\n",
        "slang_word=pd.read_csv(\"/content/drive/MyDrive/Capstone/slang_word.txt\", sep='\\t')\n",
        "slang_dict = dict(slang_word.values)\n",
        "\n",
        "#Stopword\n",
        "stopword = stopwords.words(\"indonesian\")\n",
        "\n",
        "with open(\"/content/drive/MyDrive/Capstone/not_stopword.txt\") as l:\n",
        "    not_stopword = l.read().splitlines()\n",
        "    l.close()\n",
        "stopword = set([word for word in stopword if word not in not_stopword])\n",
        "\n",
        "#Stemming\n",
        "from Sastrawi.Stemmer.StemmerFactory import StemmerFactory\n",
        "factory=StemmerFactory()\n",
        "\n",
        "stemmer=factory.create_stemmer()\n",
        "\n",
        "def text_correction(text):\n",
        "  correct_word = []\n",
        "  for word in text.split():\n",
        "      # searching from slang_dict\n",
        "      correct_word.append(slang_dict.get(word, word))\n",
        "  correct_word = ' '.join(correct_word)\n",
        "  return correct_word\n",
        "#preprocessing\n",
        "def preprocessing(text):\n",
        "      text=text.lower() #case folding\n",
        "      #cleaning\n",
        "      text=re.sub(r\"\\d+\",\"\",text)\n",
        "      text = re.sub('((www\\.[^\\s]+)|(https?://[^\\s]+)|\\w+\\.(com|id|org))','',text)\n",
        "      text = re.sub('(\\n|\\n\\n|\\xa0)', ' ', text)\n",
        "      text = re.sub('[•■®—«]', '', text)\n",
        "      text=re.sub(r\"(#|@)([^\\s:]+)\",\"\",text) #remove tag account\n",
        "      text = re.sub(\"[^\\w\\s]\", \" \", text) #remove punctuation, \\w = alphanumeric, \\s whitespace\n",
        "      text=re.sub(\" +\", \" \", text)\n",
        "      text=re.sub(\"â€|ï\",\"\",text)\n",
        "      text=re.sub(\"\\u200d\",\"\",text)\n",
        "      text=text_correction(text)\n",
        "      text=stemmer.stem(text)\n",
        "      text= ' '.join([word for word in text.split() if word not in (stopword)]) #remove stopword\n",
        "\n",
        "      text=text.strip()\n",
        "      return text"
      ],
      "metadata": {
        "colab": {
          "base_uri": "https://localhost:8080/"
        },
        "id": "GxUnpu73tVbB",
        "outputId": "69f66087-b5c0-4b1d-a310-381ae4a8f976"
      },
      "execution_count": null,
      "outputs": [
        {
          "output_type": "stream",
          "name": "stderr",
          "text": [
            "[nltk_data] Downloading package stopwords to /root/nltk_data...\n",
            "[nltk_data]   Unzipping corpora/stopwords.zip.\n"
          ]
        }
      ]
    },
    {
      "cell_type": "code",
      "source": [
        "data['tweet_cleaned']=data['tweet'].apply(preprocessing)"
      ],
      "metadata": {
        "id": "8rNlpwXYyV8L"
      },
      "execution_count": null,
      "outputs": []
    },
    {
      "cell_type": "code",
      "source": [
        "data['tweet_cleaned_2']=data['tweet'].apply(preprocessing)"
      ],
      "metadata": {
        "id": "5IIufs9flPEY"
      },
      "execution_count": null,
      "outputs": []
    },
    {
      "cell_type": "code",
      "source": [
        "data"
      ],
      "metadata": {
        "colab": {
          "base_uri": "https://localhost:8080/",
          "height": 571
        },
        "id": "YoDqFufdrL_v",
        "outputId": "ab304dc1-2ac0-474d-847a-eaaa21a495f9"
      },
      "execution_count": null,
      "outputs": [
        {
          "output_type": "execute_result",
          "data": {
            "text/plain": [
              "                                                  tweet  label  \\\n",
              "0     [cm] halo aku butuh saran. jadi aku sedang nge...      1   \n",
              "1     today: dibilang managerku kl badanku kecil tp ...      1   \n",
              "2     Wajar cemas kalau ga dikasih kabar. Wajar gugu...      1   \n",
              "3     Gimana ya cara biar ngga cemas setiap abis mak...      1   \n",
              "4                           Bau-bau mau anxiety lg wkwk      1   \n",
              "...                                                 ...    ...   \n",
              "1220  dia kelihatan capek, matanya sampai merah kare...      0   \n",
              "1221                                   capek banget ges      0   \n",
              "1222            gua capek hidup njir, pengen bunuh diri      1   \n",
              "1223                             sumpah capek bangetttt      0   \n",
              "1224                           semuanya peduli sama aku      0   \n",
              "\n",
              "                                          tweet_cleaned  \\\n",
              "0     butuh saran ngerjakan skripsi berat ngerjainny...   \n",
              "1     today managerku badan pantat hamil sakit perut...   \n",
              "2     wajar cemas kabar wajar gugup hilang efek saya...   \n",
              "3             biar cemas habis makan takut sayang kurus   \n",
              "4                                bau bau anxiety hahaha   \n",
              "...                                                 ...   \n",
              "1220                       capek mata merah tidur malam   \n",
              "1221                                               cape   \n",
              "1222                              cape hidup bunuh diri   \n",
              "1223                                               cape   \n",
              "1224                                             peduli   \n",
              "\n",
              "                                        tweet_cleaned_2  \n",
              "0     halo butuh saran ngerjakan skripsi berat bange...  \n",
              "1     today managerku badanku pantatnya hamil sakit ...  \n",
              "2     wajar cemas kabar wajar gugup menghilang efek ...  \n",
              "3     iya biar cemas habis makan takut banget sayang...  \n",
              "4                                bau bau anxiety hahaha  \n",
              "...                                                 ...  \n",
              "1220                        cape mata merah tidur malam  \n",
              "1221                                               cape  \n",
              "1222                              cape hidup bunuh diri  \n",
              "1223                                               cape  \n",
              "1224                                             peduli  \n",
              "\n",
              "[1225 rows x 4 columns]"
            ],
            "text/html": [
              "\n",
              "  <div id=\"df-59def905-fd6b-419d-ae49-3d5c63caefed\">\n",
              "    <div class=\"colab-df-container\">\n",
              "      <div>\n",
              "<style scoped>\n",
              "    .dataframe tbody tr th:only-of-type {\n",
              "        vertical-align: middle;\n",
              "    }\n",
              "\n",
              "    .dataframe tbody tr th {\n",
              "        vertical-align: top;\n",
              "    }\n",
              "\n",
              "    .dataframe thead th {\n",
              "        text-align: right;\n",
              "    }\n",
              "</style>\n",
              "<table border=\"1\" class=\"dataframe\">\n",
              "  <thead>\n",
              "    <tr style=\"text-align: right;\">\n",
              "      <th></th>\n",
              "      <th>tweet</th>\n",
              "      <th>label</th>\n",
              "      <th>tweet_cleaned</th>\n",
              "      <th>tweet_cleaned_2</th>\n",
              "    </tr>\n",
              "  </thead>\n",
              "  <tbody>\n",
              "    <tr>\n",
              "      <th>0</th>\n",
              "      <td>[cm] halo aku butuh saran. jadi aku sedang nge...</td>\n",
              "      <td>1</td>\n",
              "      <td>butuh saran ngerjakan skripsi berat ngerjainny...</td>\n",
              "      <td>halo butuh saran ngerjakan skripsi berat bange...</td>\n",
              "    </tr>\n",
              "    <tr>\n",
              "      <th>1</th>\n",
              "      <td>today: dibilang managerku kl badanku kecil tp ...</td>\n",
              "      <td>1</td>\n",
              "      <td>today managerku badan pantat hamil sakit perut...</td>\n",
              "      <td>today managerku badanku pantatnya hamil sakit ...</td>\n",
              "    </tr>\n",
              "    <tr>\n",
              "      <th>2</th>\n",
              "      <td>Wajar cemas kalau ga dikasih kabar. Wajar gugu...</td>\n",
              "      <td>1</td>\n",
              "      <td>wajar cemas kabar wajar gugup hilang efek saya...</td>\n",
              "      <td>wajar cemas kabar wajar gugup menghilang efek ...</td>\n",
              "    </tr>\n",
              "    <tr>\n",
              "      <th>3</th>\n",
              "      <td>Gimana ya cara biar ngga cemas setiap abis mak...</td>\n",
              "      <td>1</td>\n",
              "      <td>biar cemas habis makan takut sayang kurus</td>\n",
              "      <td>iya biar cemas habis makan takut banget sayang...</td>\n",
              "    </tr>\n",
              "    <tr>\n",
              "      <th>4</th>\n",
              "      <td>Bau-bau mau anxiety lg wkwk</td>\n",
              "      <td>1</td>\n",
              "      <td>bau bau anxiety hahaha</td>\n",
              "      <td>bau bau anxiety hahaha</td>\n",
              "    </tr>\n",
              "    <tr>\n",
              "      <th>...</th>\n",
              "      <td>...</td>\n",
              "      <td>...</td>\n",
              "      <td>...</td>\n",
              "      <td>...</td>\n",
              "    </tr>\n",
              "    <tr>\n",
              "      <th>1220</th>\n",
              "      <td>dia kelihatan capek, matanya sampai merah kare...</td>\n",
              "      <td>0</td>\n",
              "      <td>capek mata merah tidur malam</td>\n",
              "      <td>cape mata merah tidur malam</td>\n",
              "    </tr>\n",
              "    <tr>\n",
              "      <th>1221</th>\n",
              "      <td>capek banget ges</td>\n",
              "      <td>0</td>\n",
              "      <td>cape</td>\n",
              "      <td>cape</td>\n",
              "    </tr>\n",
              "    <tr>\n",
              "      <th>1222</th>\n",
              "      <td>gua capek hidup njir, pengen bunuh diri</td>\n",
              "      <td>1</td>\n",
              "      <td>cape hidup bunuh diri</td>\n",
              "      <td>cape hidup bunuh diri</td>\n",
              "    </tr>\n",
              "    <tr>\n",
              "      <th>1223</th>\n",
              "      <td>sumpah capek bangetttt</td>\n",
              "      <td>0</td>\n",
              "      <td>cape</td>\n",
              "      <td>cape</td>\n",
              "    </tr>\n",
              "    <tr>\n",
              "      <th>1224</th>\n",
              "      <td>semuanya peduli sama aku</td>\n",
              "      <td>0</td>\n",
              "      <td>peduli</td>\n",
              "      <td>peduli</td>\n",
              "    </tr>\n",
              "  </tbody>\n",
              "</table>\n",
              "<p>1225 rows × 4 columns</p>\n",
              "</div>\n",
              "      <button class=\"colab-df-convert\" onclick=\"convertToInteractive('df-59def905-fd6b-419d-ae49-3d5c63caefed')\"\n",
              "              title=\"Convert this dataframe to an interactive table.\"\n",
              "              style=\"display:none;\">\n",
              "        \n",
              "  <svg xmlns=\"http://www.w3.org/2000/svg\" height=\"24px\"viewBox=\"0 0 24 24\"\n",
              "       width=\"24px\">\n",
              "    <path d=\"M0 0h24v24H0V0z\" fill=\"none\"/>\n",
              "    <path d=\"M18.56 5.44l.94 2.06.94-2.06 2.06-.94-2.06-.94-.94-2.06-.94 2.06-2.06.94zm-11 1L8.5 8.5l.94-2.06 2.06-.94-2.06-.94L8.5 2.5l-.94 2.06-2.06.94zm10 10l.94 2.06.94-2.06 2.06-.94-2.06-.94-.94-2.06-.94 2.06-2.06.94z\"/><path d=\"M17.41 7.96l-1.37-1.37c-.4-.4-.92-.59-1.43-.59-.52 0-1.04.2-1.43.59L10.3 9.45l-7.72 7.72c-.78.78-.78 2.05 0 2.83L4 21.41c.39.39.9.59 1.41.59.51 0 1.02-.2 1.41-.59l7.78-7.78 2.81-2.81c.8-.78.8-2.07 0-2.86zM5.41 20L4 18.59l7.72-7.72 1.47 1.35L5.41 20z\"/>\n",
              "  </svg>\n",
              "      </button>\n",
              "      \n",
              "  <style>\n",
              "    .colab-df-container {\n",
              "      display:flex;\n",
              "      flex-wrap:wrap;\n",
              "      gap: 12px;\n",
              "    }\n",
              "\n",
              "    .colab-df-convert {\n",
              "      background-color: #E8F0FE;\n",
              "      border: none;\n",
              "      border-radius: 50%;\n",
              "      cursor: pointer;\n",
              "      display: none;\n",
              "      fill: #1967D2;\n",
              "      height: 32px;\n",
              "      padding: 0 0 0 0;\n",
              "      width: 32px;\n",
              "    }\n",
              "\n",
              "    .colab-df-convert:hover {\n",
              "      background-color: #E2EBFA;\n",
              "      box-shadow: 0px 1px 2px rgba(60, 64, 67, 0.3), 0px 1px 3px 1px rgba(60, 64, 67, 0.15);\n",
              "      fill: #174EA6;\n",
              "    }\n",
              "\n",
              "    [theme=dark] .colab-df-convert {\n",
              "      background-color: #3B4455;\n",
              "      fill: #D2E3FC;\n",
              "    }\n",
              "\n",
              "    [theme=dark] .colab-df-convert:hover {\n",
              "      background-color: #434B5C;\n",
              "      box-shadow: 0px 1px 3px 1px rgba(0, 0, 0, 0.15);\n",
              "      filter: drop-shadow(0px 1px 2px rgba(0, 0, 0, 0.3));\n",
              "      fill: #FFFFFF;\n",
              "    }\n",
              "  </style>\n",
              "\n",
              "      <script>\n",
              "        const buttonEl =\n",
              "          document.querySelector('#df-59def905-fd6b-419d-ae49-3d5c63caefed button.colab-df-convert');\n",
              "        buttonEl.style.display =\n",
              "          google.colab.kernel.accessAllowed ? 'block' : 'none';\n",
              "\n",
              "        async function convertToInteractive(key) {\n",
              "          const element = document.querySelector('#df-59def905-fd6b-419d-ae49-3d5c63caefed');\n",
              "          const dataTable =\n",
              "            await google.colab.kernel.invokeFunction('convertToInteractive',\n",
              "                                                     [key], {});\n",
              "          if (!dataTable) return;\n",
              "\n",
              "          const docLinkHtml = 'Like what you see? Visit the ' +\n",
              "            '<a target=\"_blank\" href=https://colab.research.google.com/notebooks/data_table.ipynb>data table notebook</a>'\n",
              "            + ' to learn more about interactive tables.';\n",
              "          element.innerHTML = '';\n",
              "          dataTable['output_type'] = 'display_data';\n",
              "          await google.colab.output.renderOutput(dataTable, element);\n",
              "          const docLink = document.createElement('div');\n",
              "          docLink.innerHTML = docLinkHtml;\n",
              "          element.appendChild(docLink);\n",
              "        }\n",
              "      </script>\n",
              "    </div>\n",
              "  </div>\n",
              "  "
            ]
          },
          "metadata": {},
          "execution_count": 53
        }
      ]
    },
    {
      "cell_type": "code",
      "source": [
        "data.isnull().sum()"
      ],
      "metadata": {
        "colab": {
          "base_uri": "https://localhost:8080/"
        },
        "id": "U_y7HlP2rojd",
        "outputId": "b2988e5d-8d40-452d-bd8f-4f921d3a4c78"
      },
      "execution_count": null,
      "outputs": [
        {
          "output_type": "execute_result",
          "data": {
            "text/plain": [
              "tweet              0\n",
              "label              0\n",
              "tweet_cleaned      4\n",
              "tweet_cleaned_2    4\n",
              "dtype: int64"
            ]
          },
          "metadata": {},
          "execution_count": 7
        }
      ]
    },
    {
      "cell_type": "code",
      "source": [
        "data=data.fillna('')"
      ],
      "metadata": {
        "id": "FVkxqOIJrg6V"
      },
      "execution_count": null,
      "outputs": []
    },
    {
      "cell_type": "markdown",
      "source": [
        "# Modelling (with stemming)"
      ],
      "metadata": {
        "id": "_i6uwRLbysWt"
      }
    },
    {
      "cell_type": "code",
      "source": [
        "!pip install fastText"
      ],
      "metadata": {
        "id": "f3bPBJ_3NmTS"
      },
      "execution_count": null,
      "outputs": []
    },
    {
      "cell_type": "code",
      "source": [
        "from tensorflow import keras\n",
        "from keras.models import Sequential\n",
        "from keras.layers import Dense, Embedding, Conv1D, MaxPooling1D,GlobalMaxPooling1D,Dropout,Flatten\n",
        "from keras.layers import Input\n",
        "from tensorflow.keras.callbacks import ModelCheckpoint, EarlyStopping\n",
        "from keras.preprocessing.text import Tokenizer\n",
        "from keras.preprocessing import text\n",
        "from keras.utils import to_categorical, pad_sequences\n",
        "import fasttext"
      ],
      "metadata": {
        "id": "w07e_qsV1MVD"
      },
      "execution_count": null,
      "outputs": []
    },
    {
      "cell_type": "code",
      "source": [
        "texts=data.tweet_cleaned_2.values\n",
        "labels=data['label'].values\n",
        "\n",
        "MAX_NUM_WORDS = 5510 #di define sesuai jumlah unique token?\n",
        "tokenizer = Tokenizer(num_words=MAX_NUM_WORDS)\n",
        "tokenizer.fit_on_texts(texts)\n",
        "sequences = tokenizer.texts_to_sequences(texts)\n",
        "word_index = tokenizer.word_index\n",
        "print('Found %s unique tokens.' % len(word_index))"
      ],
      "metadata": {
        "colab": {
          "base_uri": "https://localhost:8080/"
        },
        "id": "PKc6XpRo1FUU",
        "outputId": "9cc7a3f0-f861-4e4a-a7c0-d45a878e6512"
      },
      "execution_count": null,
      "outputs": [
        {
          "output_type": "stream",
          "name": "stdout",
          "text": [
            "Found 5510 unique tokens.\n"
          ]
        }
      ]
    },
    {
      "cell_type": "code",
      "source": [
        "#Save tokenizer to json agar compatible dgn tensorflow.js\n",
        "import json\n",
        "with open('/content/drive/MyDrive/Capstone/tensorflow_js/word2index.json', 'w') as fp:\n",
        "    json.dump(word_index, fp)"
      ],
      "metadata": {
        "id": "1Wcvz_7Q6sSf"
      },
      "execution_count": null,
      "outputs": []
    },
    {
      "cell_type": "code",
      "source": [
        "#data['doc_len'] = data['tweet_cleaned'].apply(lambda words: len(words.split(\" \")))\n",
        "#Mean_SEQUENCE_LENGTH = np.round(data['doc_len'].mean() + data['doc_len'].std()).astype(int)\n",
        "\n",
        "data_x = pad_sequences(sequences, maxlen=30) #version 2 pakai 40, yg version 1 pakai 71\n",
        "labels__=pd.get_dummies(labels).values"
      ],
      "metadata": {
        "id": "Ai8XT9wU1cZ_"
      },
      "execution_count": null,
      "outputs": []
    },
    {
      "cell_type": "code",
      "source": [
        "print('Preparing embedding matrix.')\n",
        "\n",
        "FT_MODEL = '/content/drive/MyDrive/Capstone/fasttext_twitter.vec'\n",
        "EMBEDDING_DIM = 100\n",
        "\n",
        "# load the fasttext model\n",
        "f = fasttext.load_model(FT_MODEL)\n",
        "#prepare embedding matrix\n",
        "num_words = min(MAX_NUM_WORDS, len(word_index) + 1)\n",
        "embedding_matrix = np.zeros((num_words, EMBEDDING_DIM))\n",
        "for word, i in word_index.items():\n",
        "  if i >= MAX_NUM_WORDS:\n",
        "      continue\n",
        "  embedding_vector = f.get_word_vector(word)\n",
        "  if embedding_vector is not None:\n",
        "      # words not found in embedding index will be all-zeros.\n",
        "      embedding_matrix[i] = embedding_vector"
      ],
      "metadata": {
        "id": "uvSBH1AXNPKG"
      },
      "execution_count": null,
      "outputs": []
    },
    {
      "cell_type": "code",
      "source": [
        "word = input(\"Enter word: \")\n",
        "print(f'Is word \"{word}\" in model?', word in f)\n",
        "print(f'Nearest neighbors of word \"{word}\":' )\n",
        "f.get_nearest_neighbors(f'{word}')"
      ],
      "metadata": {
        "colab": {
          "base_uri": "https://localhost:8080/"
        },
        "id": "_ZQXuoSbORR8",
        "outputId": "39e31705-c5a8-4c3c-d1e8-a1cdf10ac27d"
      },
      "execution_count": null,
      "outputs": [
        {
          "output_type": "stream",
          "name": "stdout",
          "text": [
            "Enter word: trauma\n",
            "Is word \"trauma\" in model? True\n",
            "Nearest neighbors of word \"trauma\":\n"
          ]
        },
        {
          "output_type": "execute_result",
          "data": {
            "text/plain": [
              "[(0.7619697451591492, 'traumanya'),\n",
              " (0.6219233870506287, 'bullying'),\n",
              " (0.6054822206497192, 'gua,gue'),\n",
              " (0.6033239960670471, 'nempatin'),\n",
              " (0.5990766286849976, 'trainingnya'),\n",
              " (0.5907351970672607, 'bbrpa'),\n",
              " (0.5897470116615295, 'trio'),\n",
              " (0.5858281850814819, 'eak'),\n",
              " (0.5835475921630859, 'ngeganjel'),\n",
              " (0.5804108381271362, 'juga,gue')]"
            ]
          },
          "metadata": {},
          "execution_count": 94
        }
      ]
    },
    {
      "cell_type": "code",
      "source": [
        "from sklearn.model_selection import train_test_split\n",
        "x_train, x_test, y_train, y_test = train_test_split(data_x,labels__, test_size=0.1)"
      ],
      "metadata": {
        "id": "jO_pDprNQSuv"
      },
      "execution_count": null,
      "outputs": []
    },
    {
      "cell_type": "code",
      "source": [
        "np.unique(y_test, return_counts=True)"
      ],
      "metadata": {
        "colab": {
          "base_uri": "https://localhost:8080/"
        },
        "id": "MffZBt_VChaA",
        "outputId": "b96602a0-8211-46db-f647-c394919b290a"
      },
      "execution_count": null,
      "outputs": [
        {
          "output_type": "execute_result",
          "data": {
            "text/plain": [
              "(array([0, 1], dtype=uint8), array([121, 121]))"
            ]
          },
          "metadata": {},
          "execution_count": 18
        }
      ]
    },
    {
      "cell_type": "code",
      "source": [
        "# load pre-trained word embeddings into an Embedding layer\n",
        "embedding_layer = Embedding(num_words,\n",
        "                            EMBEDDING_DIM,\n",
        "                            weights=[embedding_matrix],\n",
        "                            input_length=30,\n",
        "                            trainable=False)\n",
        "# train a 1D convnet with global maxpooling\n",
        "model = Sequential()\n",
        "model.add(embedding_layer)\n",
        "model.add(Conv1D(50, 2, activation='relu'))\n",
        "model.add(GlobalMaxPooling1D())\n",
        "#model.add(Dense(20, activation='relu'))\n",
        "model.add(Dense(2, activation='sigmoid'))\n",
        "\n",
        "filepath=\"./weights_arsitektur2.best.hdf5\"\n",
        "es = EarlyStopping(monitor='val_accuracy', patience=30)\n",
        "checkpoint = ModelCheckpoint(filepath, monitor='val_accuracy', save_best_only=True, mode='max',verbose=1)\n",
        "callbacks_list = [es,checkpoint]\n",
        "\n",
        "model.compile(optimizer = keras.optimizers.Adam(learning_rate = 0.0001), loss = 'binary_crossentropy', metrics = ['accuracy'])"
      ],
      "metadata": {
        "id": "DMyLhjZKRt6Y"
      },
      "execution_count": null,
      "outputs": []
    },
    {
      "cell_type": "code",
      "source": [
        "#version 5\n",
        "epochs=200\n",
        "batch_size=24\n",
        "history=model.fit(x_train, y_train, batch_size = batch_size, validation_data=(x_test, y_test),\n",
        "                      epochs = epochs,callbacks=callbacks_list,verbose=1)"
      ],
      "metadata": {
        "colab": {
          "base_uri": "https://localhost:8080/"
        },
        "id": "oAX3fReKAsPg",
        "outputId": "4a50b846-2735-44ee-cc3d-afe423c110f6",
        "collapsed": true
      },
      "execution_count": null,
      "outputs": [
        {
          "output_type": "stream",
          "name": "stdout",
          "text": [
            "Epoch 1/200\n",
            "46/47 [============================>.] - ETA: 0s - loss: 0.7541 - accuracy: 0.5136\n",
            "Epoch 1: val_accuracy improved from -inf to 0.52846, saving model to ./weights_arsitektur2.best.hdf5\n",
            "47/47 [==============================] - 3s 29ms/step - loss: 0.7537 - accuracy: 0.5145 - val_loss: 0.7196 - val_accuracy: 0.5285\n",
            "Epoch 2/200\n",
            "44/47 [===========================>..] - ETA: 0s - loss: 0.6963 - accuracy: 0.5691\n",
            "Epoch 2: val_accuracy improved from 0.52846 to 0.56911, saving model to ./weights_arsitektur2.best.hdf5\n",
            "47/47 [==============================] - 1s 16ms/step - loss: 0.6961 - accuracy: 0.5660 - val_loss: 0.6958 - val_accuracy: 0.5691\n",
            "Epoch 3/200\n",
            "45/47 [===========================>..] - ETA: 0s - loss: 0.6749 - accuracy: 0.6074\n",
            "Epoch 3: val_accuracy improved from 0.56911 to 0.59350, saving model to ./weights_arsitektur2.best.hdf5\n",
            "47/47 [==============================] - 0s 9ms/step - loss: 0.6755 - accuracy: 0.6058 - val_loss: 0.6842 - val_accuracy: 0.5935\n",
            "Epoch 4/200\n",
            "40/47 [========================>.....] - ETA: 0s - loss: 0.6637 - accuracy: 0.6323\n",
            "Epoch 4: val_accuracy improved from 0.59350 to 0.61789, saving model to ./weights_arsitektur2.best.hdf5\n",
            "47/47 [==============================] - 0s 9ms/step - loss: 0.6611 - accuracy: 0.6365 - val_loss: 0.6730 - val_accuracy: 0.6179\n",
            "Epoch 5/200\n",
            "44/47 [===========================>..] - ETA: 0s - loss: 0.6487 - accuracy: 0.6667\n",
            "Epoch 5: val_accuracy improved from 0.61789 to 0.66667, saving model to ./weights_arsitektur2.best.hdf5\n",
            "47/47 [==============================] - 0s 10ms/step - loss: 0.6477 - accuracy: 0.6691 - val_loss: 0.6615 - val_accuracy: 0.6667\n",
            "Epoch 6/200\n",
            "45/47 [===========================>..] - ETA: 0s - loss: 0.6345 - accuracy: 0.6917\n",
            "Epoch 6: val_accuracy improved from 0.66667 to 0.68293, saving model to ./weights_arsitektur2.best.hdf5\n",
            "47/47 [==============================] - 1s 11ms/step - loss: 0.6341 - accuracy: 0.6935 - val_loss: 0.6497 - val_accuracy: 0.6829\n",
            "Epoch 7/200\n",
            "44/47 [===========================>..] - ETA: 0s - loss: 0.6225 - accuracy: 0.7112\n",
            "Epoch 7: val_accuracy improved from 0.68293 to 0.70732, saving model to ./weights_arsitektur2.best.hdf5\n",
            "47/47 [==============================] - 0s 6ms/step - loss: 0.6213 - accuracy: 0.7125 - val_loss: 0.6386 - val_accuracy: 0.7073\n",
            "Epoch 8/200\n",
            "39/47 [=======================>......] - ETA: 0s - loss: 0.6083 - accuracy: 0.7276\n",
            "Epoch 8: val_accuracy improved from 0.70732 to 0.73171, saving model to ./weights_arsitektur2.best.hdf5\n",
            "47/47 [==============================] - 0s 7ms/step - loss: 0.6084 - accuracy: 0.7297 - val_loss: 0.6285 - val_accuracy: 0.7317\n",
            "Epoch 9/200\n",
            "41/47 [=========================>....] - ETA: 0s - loss: 0.5970 - accuracy: 0.7480\n",
            "Epoch 9: val_accuracy improved from 0.73171 to 0.76423, saving model to ./weights_arsitektur2.best.hdf5\n",
            "47/47 [==============================] - 0s 7ms/step - loss: 0.5960 - accuracy: 0.7486 - val_loss: 0.6173 - val_accuracy: 0.7642\n",
            "Epoch 10/200\n",
            "40/47 [========================>.....] - ETA: 0s - loss: 0.5852 - accuracy: 0.7656\n",
            "Epoch 10: val_accuracy improved from 0.76423 to 0.78862, saving model to ./weights_arsitektur2.best.hdf5\n",
            "47/47 [==============================] - 0s 7ms/step - loss: 0.5844 - accuracy: 0.7640 - val_loss: 0.6061 - val_accuracy: 0.7886\n",
            "Epoch 11/200\n",
            "42/47 [=========================>....] - ETA: 0s - loss: 0.5727 - accuracy: 0.7679\n",
            "Epoch 11: val_accuracy improved from 0.78862 to 0.79675, saving model to ./weights_arsitektur2.best.hdf5\n",
            "47/47 [==============================] - 0s 7ms/step - loss: 0.5722 - accuracy: 0.7667 - val_loss: 0.5959 - val_accuracy: 0.7967\n",
            "Epoch 12/200\n",
            "41/47 [=========================>....] - ETA: 0s - loss: 0.5611 - accuracy: 0.7886\n",
            "Epoch 12: val_accuracy did not improve from 0.79675\n",
            "47/47 [==============================] - 0s 7ms/step - loss: 0.5605 - accuracy: 0.7866 - val_loss: 0.5852 - val_accuracy: 0.7967\n",
            "Epoch 13/200\n",
            "39/47 [=======================>......] - ETA: 0s - loss: 0.5466 - accuracy: 0.8024\n",
            "Epoch 13: val_accuracy improved from 0.79675 to 0.81301, saving model to ./weights_arsitektur2.best.hdf5\n",
            "47/47 [==============================] - 0s 7ms/step - loss: 0.5493 - accuracy: 0.7893 - val_loss: 0.5754 - val_accuracy: 0.8130\n",
            "Epoch 14/200\n",
            "40/47 [========================>.....] - ETA: 0s - loss: 0.5395 - accuracy: 0.7885\n",
            "Epoch 14: val_accuracy did not improve from 0.81301\n",
            "47/47 [==============================] - 0s 6ms/step - loss: 0.5384 - accuracy: 0.7902 - val_loss: 0.5658 - val_accuracy: 0.8130\n",
            "Epoch 15/200\n",
            "46/47 [============================>.] - ETA: 0s - loss: 0.5278 - accuracy: 0.8134\n",
            "Epoch 15: val_accuracy improved from 0.81301 to 0.82927, saving model to ./weights_arsitektur2.best.hdf5\n",
            "47/47 [==============================] - 0s 7ms/step - loss: 0.5274 - accuracy: 0.8137 - val_loss: 0.5558 - val_accuracy: 0.8293\n",
            "Epoch 16/200\n",
            "40/47 [========================>.....] - ETA: 0s - loss: 0.5130 - accuracy: 0.8135\n",
            "Epoch 16: val_accuracy did not improve from 0.82927\n",
            "47/47 [==============================] - 0s 6ms/step - loss: 0.5174 - accuracy: 0.8074 - val_loss: 0.5465 - val_accuracy: 0.8293\n",
            "Epoch 17/200\n",
            "41/47 [=========================>....] - ETA: 0s - loss: 0.5108 - accuracy: 0.8262\n",
            "Epoch 17: val_accuracy did not improve from 0.82927\n",
            "47/47 [==============================] - 0s 6ms/step - loss: 0.5069 - accuracy: 0.8264 - val_loss: 0.5368 - val_accuracy: 0.8211\n",
            "Epoch 18/200\n",
            "39/47 [=======================>......] - ETA: 0s - loss: 0.4969 - accuracy: 0.8365\n",
            "Epoch 18: val_accuracy did not improve from 0.82927\n",
            "47/47 [==============================] - 0s 6ms/step - loss: 0.4963 - accuracy: 0.8354 - val_loss: 0.5283 - val_accuracy: 0.8293\n",
            "Epoch 19/200\n",
            "41/47 [=========================>....] - ETA: 0s - loss: 0.4863 - accuracy: 0.8232\n",
            "Epoch 19: val_accuracy did not improve from 0.82927\n",
            "47/47 [==============================] - 0s 6ms/step - loss: 0.4868 - accuracy: 0.8255 - val_loss: 0.5200 - val_accuracy: 0.8293\n",
            "Epoch 20/200\n",
            "46/47 [============================>.] - ETA: 0s - loss: 0.4777 - accuracy: 0.8424\n",
            "Epoch 20: val_accuracy improved from 0.82927 to 0.83740, saving model to ./weights_arsitektur2.best.hdf5\n",
            "47/47 [==============================] - 0s 6ms/step - loss: 0.4780 - accuracy: 0.8427 - val_loss: 0.5107 - val_accuracy: 0.8374\n",
            "Epoch 21/200\n",
            "40/47 [========================>.....] - ETA: 0s - loss: 0.4693 - accuracy: 0.8406\n",
            "Epoch 21: val_accuracy did not improve from 0.83740\n",
            "47/47 [==============================] - 0s 7ms/step - loss: 0.4680 - accuracy: 0.8400 - val_loss: 0.5031 - val_accuracy: 0.8374\n",
            "Epoch 22/200\n",
            "40/47 [========================>.....] - ETA: 0s - loss: 0.4628 - accuracy: 0.8448\n",
            "Epoch 22: val_accuracy did not improve from 0.83740\n",
            "47/47 [==============================] - 0s 6ms/step - loss: 0.4592 - accuracy: 0.8472 - val_loss: 0.4952 - val_accuracy: 0.8374\n",
            "Epoch 23/200\n",
            "43/47 [==========================>...] - ETA: 0s - loss: 0.4486 - accuracy: 0.8479\n",
            "Epoch 23: val_accuracy did not improve from 0.83740\n",
            "47/47 [==============================] - 0s 6ms/step - loss: 0.4505 - accuracy: 0.8481 - val_loss: 0.4885 - val_accuracy: 0.8374\n",
            "Epoch 24/200\n",
            "43/47 [==========================>...] - ETA: 0s - loss: 0.4421 - accuracy: 0.8469\n",
            "Epoch 24: val_accuracy did not improve from 0.83740\n",
            "47/47 [==============================] - 0s 6ms/step - loss: 0.4427 - accuracy: 0.8463 - val_loss: 0.4810 - val_accuracy: 0.8374\n",
            "Epoch 25/200\n",
            "45/47 [===========================>..] - ETA: 0s - loss: 0.4348 - accuracy: 0.8565\n",
            "Epoch 25: val_accuracy did not improve from 0.83740\n",
            "47/47 [==============================] - 0s 7ms/step - loss: 0.4345 - accuracy: 0.8562 - val_loss: 0.4740 - val_accuracy: 0.8374\n",
            "Epoch 26/200\n",
            "39/47 [=======================>......] - ETA: 0s - loss: 0.4270 - accuracy: 0.8568\n",
            "Epoch 26: val_accuracy did not improve from 0.83740\n",
            "47/47 [==============================] - 0s 7ms/step - loss: 0.4265 - accuracy: 0.8553 - val_loss: 0.4673 - val_accuracy: 0.8374\n",
            "Epoch 27/200\n",
            "40/47 [========================>.....] - ETA: 0s - loss: 0.4168 - accuracy: 0.8594\n",
            "Epoch 27: val_accuracy did not improve from 0.83740\n",
            "47/47 [==============================] - 0s 6ms/step - loss: 0.4188 - accuracy: 0.8599 - val_loss: 0.4608 - val_accuracy: 0.8374\n",
            "Epoch 28/200\n",
            "45/47 [===========================>..] - ETA: 0s - loss: 0.4100 - accuracy: 0.8630\n",
            "Epoch 28: val_accuracy did not improve from 0.83740\n",
            "47/47 [==============================] - 0s 7ms/step - loss: 0.4114 - accuracy: 0.8617 - val_loss: 0.4547 - val_accuracy: 0.8293\n",
            "Epoch 29/200\n",
            "40/47 [========================>.....] - ETA: 0s - loss: 0.4003 - accuracy: 0.8635\n",
            "Epoch 29: val_accuracy did not improve from 0.83740\n",
            "47/47 [==============================] - 0s 7ms/step - loss: 0.4042 - accuracy: 0.8635 - val_loss: 0.4493 - val_accuracy: 0.8374\n",
            "Epoch 30/200\n",
            "41/47 [=========================>....] - ETA: 0s - loss: 0.3988 - accuracy: 0.8659\n",
            "Epoch 30: val_accuracy did not improve from 0.83740\n",
            "47/47 [==============================] - 0s 7ms/step - loss: 0.3974 - accuracy: 0.8644 - val_loss: 0.4441 - val_accuracy: 0.8374\n",
            "Epoch 31/200\n",
            "39/47 [=======================>......] - ETA: 0s - loss: 0.3992 - accuracy: 0.8622\n",
            "Epoch 31: val_accuracy did not improve from 0.83740\n",
            "47/47 [==============================] - 0s 7ms/step - loss: 0.3906 - accuracy: 0.8653 - val_loss: 0.4390 - val_accuracy: 0.8374\n",
            "Epoch 32/200\n",
            "43/47 [==========================>...] - ETA: 0s - loss: 0.3867 - accuracy: 0.8672\n",
            "Epoch 32: val_accuracy did not improve from 0.83740\n",
            "47/47 [==============================] - 0s 6ms/step - loss: 0.3839 - accuracy: 0.8689 - val_loss: 0.4343 - val_accuracy: 0.8374\n",
            "Epoch 33/200\n",
            "41/47 [=========================>....] - ETA: 0s - loss: 0.3781 - accuracy: 0.8689\n",
            "Epoch 33: val_accuracy did not improve from 0.83740\n",
            "47/47 [==============================] - 0s 6ms/step - loss: 0.3779 - accuracy: 0.8689 - val_loss: 0.4293 - val_accuracy: 0.8374\n",
            "Epoch 34/200\n",
            "43/47 [==========================>...] - ETA: 0s - loss: 0.3735 - accuracy: 0.8711\n",
            "Epoch 34: val_accuracy did not improve from 0.83740\n",
            "47/47 [==============================] - 0s 6ms/step - loss: 0.3716 - accuracy: 0.8707 - val_loss: 0.4249 - val_accuracy: 0.8374\n",
            "Epoch 35/200\n",
            "39/47 [=======================>......] - ETA: 0s - loss: 0.3650 - accuracy: 0.8739\n",
            "Epoch 35: val_accuracy did not improve from 0.83740\n",
            "47/47 [==============================] - 0s 6ms/step - loss: 0.3660 - accuracy: 0.8716 - val_loss: 0.4206 - val_accuracy: 0.8374\n",
            "Epoch 36/200\n",
            "42/47 [=========================>....] - ETA: 0s - loss: 0.3652 - accuracy: 0.8720\n",
            "Epoch 36: val_accuracy did not improve from 0.83740\n",
            "47/47 [==============================] - 0s 6ms/step - loss: 0.3602 - accuracy: 0.8761 - val_loss: 0.4164 - val_accuracy: 0.8374\n",
            "Epoch 37/200\n",
            "41/47 [=========================>....] - ETA: 0s - loss: 0.3517 - accuracy: 0.8821\n",
            "Epoch 37: val_accuracy did not improve from 0.83740\n",
            "47/47 [==============================] - 0s 6ms/step - loss: 0.3549 - accuracy: 0.8725 - val_loss: 0.4122 - val_accuracy: 0.8374\n",
            "Epoch 38/200\n",
            "46/47 [============================>.] - ETA: 0s - loss: 0.3498 - accuracy: 0.8795\n",
            "Epoch 38: val_accuracy did not improve from 0.83740\n",
            "47/47 [==============================] - 0s 9ms/step - loss: 0.3495 - accuracy: 0.8797 - val_loss: 0.4082 - val_accuracy: 0.8374\n",
            "Epoch 39/200\n",
            "43/47 [==========================>...] - ETA: 0s - loss: 0.3497 - accuracy: 0.8682\n",
            "Epoch 39: val_accuracy did not improve from 0.83740\n",
            "47/47 [==============================] - 0s 10ms/step - loss: 0.3444 - accuracy: 0.8752 - val_loss: 0.4049 - val_accuracy: 0.8374\n",
            "Epoch 40/200\n",
            "46/47 [============================>.] - ETA: 0s - loss: 0.3397 - accuracy: 0.8877\n",
            "Epoch 40: val_accuracy did not improve from 0.83740\n",
            "47/47 [==============================] - 0s 10ms/step - loss: 0.3396 - accuracy: 0.8879 - val_loss: 0.4009 - val_accuracy: 0.8374\n",
            "Epoch 41/200\n",
            "43/47 [==========================>...] - ETA: 0s - loss: 0.3346 - accuracy: 0.8847\n",
            "Epoch 41: val_accuracy did not improve from 0.83740\n",
            "47/47 [==============================] - 0s 9ms/step - loss: 0.3340 - accuracy: 0.8843 - val_loss: 0.3973 - val_accuracy: 0.8374\n",
            "Epoch 42/200\n",
            "46/47 [============================>.] - ETA: 0s - loss: 0.3294 - accuracy: 0.8868\n",
            "Epoch 42: val_accuracy did not improve from 0.83740\n",
            "47/47 [==============================] - 1s 11ms/step - loss: 0.3291 - accuracy: 0.8870 - val_loss: 0.3941 - val_accuracy: 0.8374\n",
            "Epoch 43/200\n",
            "46/47 [============================>.] - ETA: 0s - loss: 0.3235 - accuracy: 0.8868\n",
            "Epoch 43: val_accuracy did not improve from 0.83740\n",
            "47/47 [==============================] - 0s 10ms/step - loss: 0.3244 - accuracy: 0.8852 - val_loss: 0.3908 - val_accuracy: 0.8374\n",
            "Epoch 44/200\n",
            "42/47 [=========================>....] - ETA: 0s - loss: 0.3220 - accuracy: 0.8899\n",
            "Epoch 44: val_accuracy did not improve from 0.83740\n",
            "47/47 [==============================] - 0s 11ms/step - loss: 0.3198 - accuracy: 0.8915 - val_loss: 0.3880 - val_accuracy: 0.8374\n",
            "Epoch 45/200\n",
            "43/47 [==========================>...] - ETA: 0s - loss: 0.3161 - accuracy: 0.8953\n",
            "Epoch 45: val_accuracy did not improve from 0.83740\n",
            "47/47 [==============================] - 0s 10ms/step - loss: 0.3162 - accuracy: 0.8933 - val_loss: 0.3851 - val_accuracy: 0.8374\n",
            "Epoch 46/200\n",
            "40/47 [========================>.....] - ETA: 0s - loss: 0.3131 - accuracy: 0.8885\n",
            "Epoch 46: val_accuracy improved from 0.83740 to 0.84553, saving model to ./weights_arsitektur2.best.hdf5\n",
            "47/47 [==============================] - 1s 11ms/step - loss: 0.3111 - accuracy: 0.8915 - val_loss: 0.3828 - val_accuracy: 0.8455\n",
            "Epoch 47/200\n",
            "43/47 [==========================>...] - ETA: 0s - loss: 0.3029 - accuracy: 0.8992\n",
            "Epoch 47: val_accuracy did not improve from 0.84553\n",
            "47/47 [==============================] - 0s 10ms/step - loss: 0.3069 - accuracy: 0.8960 - val_loss: 0.3800 - val_accuracy: 0.8455\n",
            "Epoch 48/200\n",
            "36/47 [=====================>........] - ETA: 0s - loss: 0.3079 - accuracy: 0.8889\n",
            "Epoch 48: val_accuracy did not improve from 0.84553\n",
            "47/47 [==============================] - 0s 7ms/step - loss: 0.3028 - accuracy: 0.8942 - val_loss: 0.3774 - val_accuracy: 0.8455\n",
            "Epoch 49/200\n",
            "47/47 [==============================] - ETA: 0s - loss: 0.2989 - accuracy: 0.8978\n",
            "Epoch 49: val_accuracy did not improve from 0.84553\n",
            "47/47 [==============================] - 0s 7ms/step - loss: 0.2989 - accuracy: 0.8978 - val_loss: 0.3749 - val_accuracy: 0.8455\n",
            "Epoch 50/200\n",
            "39/47 [=======================>......] - ETA: 0s - loss: 0.2969 - accuracy: 0.8996\n",
            "Epoch 50: val_accuracy did not improve from 0.84553\n",
            "47/47 [==============================] - 0s 7ms/step - loss: 0.2945 - accuracy: 0.9024 - val_loss: 0.3722 - val_accuracy: 0.8455\n",
            "Epoch 51/200\n",
            "38/47 [=======================>......] - ETA: 0s - loss: 0.2970 - accuracy: 0.8991\n",
            "Epoch 51: val_accuracy did not improve from 0.84553\n",
            "47/47 [==============================] - 0s 7ms/step - loss: 0.2910 - accuracy: 0.9033 - val_loss: 0.3700 - val_accuracy: 0.8374\n",
            "Epoch 52/200\n",
            "37/47 [======================>.......] - ETA: 0s - loss: 0.2795 - accuracy: 0.9088\n",
            "Epoch 52: val_accuracy did not improve from 0.84553\n",
            "47/47 [==============================] - 0s 7ms/step - loss: 0.2867 - accuracy: 0.9060 - val_loss: 0.3677 - val_accuracy: 0.8455\n",
            "Epoch 53/200\n",
            "44/47 [===========================>..] - ETA: 0s - loss: 0.2834 - accuracy: 0.9044\n",
            "Epoch 53: val_accuracy did not improve from 0.84553\n",
            "47/47 [==============================] - 0s 6ms/step - loss: 0.2832 - accuracy: 0.9042 - val_loss: 0.3656 - val_accuracy: 0.8455\n",
            "Epoch 54/200\n",
            "40/47 [========================>.....] - ETA: 0s - loss: 0.2810 - accuracy: 0.9042\n",
            "Epoch 54: val_accuracy did not improve from 0.84553\n",
            "47/47 [==============================] - 0s 6ms/step - loss: 0.2793 - accuracy: 0.9069 - val_loss: 0.3635 - val_accuracy: 0.8374\n",
            "Epoch 55/200\n",
            "44/47 [===========================>..] - ETA: 0s - loss: 0.2753 - accuracy: 0.9100\n",
            "Epoch 55: val_accuracy did not improve from 0.84553\n",
            "47/47 [==============================] - 0s 6ms/step - loss: 0.2759 - accuracy: 0.9096 - val_loss: 0.3608 - val_accuracy: 0.8455\n",
            "Epoch 56/200\n",
            "43/47 [==========================>...] - ETA: 0s - loss: 0.2722 - accuracy: 0.9079\n",
            "Epoch 56: val_accuracy did not improve from 0.84553\n",
            "47/47 [==============================] - 0s 6ms/step - loss: 0.2721 - accuracy: 0.9078 - val_loss: 0.3590 - val_accuracy: 0.8455\n",
            "Epoch 57/200\n",
            "40/47 [========================>.....] - ETA: 0s - loss: 0.2697 - accuracy: 0.9083\n",
            "Epoch 57: val_accuracy improved from 0.84553 to 0.85366, saving model to ./weights_arsitektur2.best.hdf5\n",
            "47/47 [==============================] - 0s 7ms/step - loss: 0.2686 - accuracy: 0.9078 - val_loss: 0.3569 - val_accuracy: 0.8537\n",
            "Epoch 58/200\n",
            "43/47 [==========================>...] - ETA: 0s - loss: 0.2627 - accuracy: 0.9099\n",
            "Epoch 58: val_accuracy did not improve from 0.85366\n",
            "47/47 [==============================] - 0s 6ms/step - loss: 0.2650 - accuracy: 0.9096 - val_loss: 0.3552 - val_accuracy: 0.8537\n",
            "Epoch 59/200\n",
            "38/47 [=======================>......] - ETA: 0s - loss: 0.2665 - accuracy: 0.9068\n",
            "Epoch 59: val_accuracy did not improve from 0.85366\n",
            "47/47 [==============================] - 0s 7ms/step - loss: 0.2616 - accuracy: 0.9114 - val_loss: 0.3532 - val_accuracy: 0.8537\n",
            "Epoch 60/200\n",
            "43/47 [==========================>...] - ETA: 0s - loss: 0.2540 - accuracy: 0.9196\n",
            "Epoch 60: val_accuracy did not improve from 0.85366\n",
            "47/47 [==============================] - 0s 6ms/step - loss: 0.2583 - accuracy: 0.9168 - val_loss: 0.3514 - val_accuracy: 0.8537\n",
            "Epoch 61/200\n",
            "41/47 [=========================>....] - ETA: 0s - loss: 0.2555 - accuracy: 0.9106\n",
            "Epoch 61: val_accuracy did not improve from 0.85366\n",
            "47/47 [==============================] - 0s 7ms/step - loss: 0.2550 - accuracy: 0.9123 - val_loss: 0.3493 - val_accuracy: 0.8537\n",
            "Epoch 62/200\n",
            "44/47 [===========================>..] - ETA: 0s - loss: 0.2525 - accuracy: 0.9138\n",
            "Epoch 62: val_accuracy did not improve from 0.85366\n",
            "47/47 [==============================] - 0s 7ms/step - loss: 0.2520 - accuracy: 0.9159 - val_loss: 0.3478 - val_accuracy: 0.8537\n",
            "Epoch 63/200\n",
            "39/47 [=======================>......] - ETA: 0s - loss: 0.2450 - accuracy: 0.9177\n",
            "Epoch 63: val_accuracy did not improve from 0.85366\n",
            "47/47 [==============================] - 0s 7ms/step - loss: 0.2489 - accuracy: 0.9168 - val_loss: 0.3460 - val_accuracy: 0.8537\n",
            "Epoch 64/200\n",
            "39/47 [=======================>......] - ETA: 0s - loss: 0.2452 - accuracy: 0.9188\n",
            "Epoch 64: val_accuracy did not improve from 0.85366\n",
            "47/47 [==============================] - 0s 6ms/step - loss: 0.2458 - accuracy: 0.9177 - val_loss: 0.3444 - val_accuracy: 0.8537\n",
            "Epoch 65/200\n",
            "40/47 [========================>.....] - ETA: 0s - loss: 0.2389 - accuracy: 0.9208\n",
            "Epoch 65: val_accuracy improved from 0.85366 to 0.86179, saving model to ./weights_arsitektur2.best.hdf5\n",
            "47/47 [==============================] - 0s 7ms/step - loss: 0.2428 - accuracy: 0.9222 - val_loss: 0.3439 - val_accuracy: 0.8618\n",
            "Epoch 66/200\n",
            "37/47 [======================>.......] - ETA: 0s - loss: 0.2330 - accuracy: 0.9302\n",
            "Epoch 66: val_accuracy did not improve from 0.86179\n",
            "47/47 [==============================] - 0s 7ms/step - loss: 0.2402 - accuracy: 0.9241 - val_loss: 0.3414 - val_accuracy: 0.8537\n",
            "Epoch 67/200\n",
            "39/47 [=======================>......] - ETA: 0s - loss: 0.2432 - accuracy: 0.9220\n",
            "Epoch 67: val_accuracy did not improve from 0.86179\n",
            "47/47 [==============================] - 0s 7ms/step - loss: 0.2369 - accuracy: 0.9259 - val_loss: 0.3399 - val_accuracy: 0.8537\n",
            "Epoch 68/200\n",
            "42/47 [=========================>....] - ETA: 0s - loss: 0.2351 - accuracy: 0.9266\n",
            "Epoch 68: val_accuracy did not improve from 0.86179\n",
            "47/47 [==============================] - 0s 6ms/step - loss: 0.2338 - accuracy: 0.9268 - val_loss: 0.3383 - val_accuracy: 0.8537\n",
            "Epoch 69/200\n",
            "41/47 [=========================>....] - ETA: 0s - loss: 0.2331 - accuracy: 0.9258\n",
            "Epoch 69: val_accuracy did not improve from 0.86179\n",
            "47/47 [==============================] - 0s 6ms/step - loss: 0.2308 - accuracy: 0.9277 - val_loss: 0.3369 - val_accuracy: 0.8618\n",
            "Epoch 70/200\n",
            "42/47 [=========================>....] - ETA: 0s - loss: 0.2280 - accuracy: 0.9296\n",
            "Epoch 70: val_accuracy did not improve from 0.86179\n",
            "47/47 [==============================] - 0s 6ms/step - loss: 0.2280 - accuracy: 0.9286 - val_loss: 0.3352 - val_accuracy: 0.8618\n",
            "Epoch 71/200\n",
            "38/47 [=======================>......] - ETA: 0s - loss: 0.2273 - accuracy: 0.9265\n",
            "Epoch 71: val_accuracy did not improve from 0.86179\n",
            "47/47 [==============================] - 0s 7ms/step - loss: 0.2253 - accuracy: 0.9277 - val_loss: 0.3341 - val_accuracy: 0.8618\n",
            "Epoch 72/200\n",
            "40/47 [========================>.....] - ETA: 0s - loss: 0.2235 - accuracy: 0.9281\n",
            "Epoch 72: val_accuracy did not improve from 0.86179\n",
            "47/47 [==============================] - 0s 6ms/step - loss: 0.2225 - accuracy: 0.9322 - val_loss: 0.3324 - val_accuracy: 0.8618\n",
            "Epoch 73/200\n",
            "41/47 [=========================>....] - ETA: 0s - loss: 0.2221 - accuracy: 0.9309\n",
            "Epoch 73: val_accuracy did not improve from 0.86179\n",
            "47/47 [==============================] - 0s 6ms/step - loss: 0.2200 - accuracy: 0.9322 - val_loss: 0.3312 - val_accuracy: 0.8618\n",
            "Epoch 74/200\n",
            "41/47 [=========================>....] - ETA: 0s - loss: 0.2139 - accuracy: 0.9350\n",
            "Epoch 74: val_accuracy did not improve from 0.86179\n",
            "47/47 [==============================] - 0s 6ms/step - loss: 0.2176 - accuracy: 0.9313 - val_loss: 0.3296 - val_accuracy: 0.8618\n",
            "Epoch 75/200\n",
            "47/47 [==============================] - ETA: 0s - loss: 0.2145 - accuracy: 0.9331\n",
            "Epoch 75: val_accuracy did not improve from 0.86179\n",
            "47/47 [==============================] - 0s 7ms/step - loss: 0.2145 - accuracy: 0.9331 - val_loss: 0.3290 - val_accuracy: 0.8618\n",
            "Epoch 76/200\n",
            "40/47 [========================>.....] - ETA: 0s - loss: 0.2118 - accuracy: 0.9354\n",
            "Epoch 76: val_accuracy did not improve from 0.86179\n",
            "47/47 [==============================] - 0s 7ms/step - loss: 0.2121 - accuracy: 0.9349 - val_loss: 0.3278 - val_accuracy: 0.8618\n",
            "Epoch 77/200\n",
            "42/47 [=========================>....] - ETA: 0s - loss: 0.2104 - accuracy: 0.9365\n",
            "Epoch 77: val_accuracy did not improve from 0.86179\n",
            "47/47 [==============================] - 0s 6ms/step - loss: 0.2095 - accuracy: 0.9394 - val_loss: 0.3264 - val_accuracy: 0.8618\n",
            "Epoch 78/200\n",
            "42/47 [=========================>....] - ETA: 0s - loss: 0.2054 - accuracy: 0.9395\n",
            "Epoch 78: val_accuracy did not improve from 0.86179\n",
            "47/47 [==============================] - 0s 6ms/step - loss: 0.2070 - accuracy: 0.9385 - val_loss: 0.3255 - val_accuracy: 0.8618\n",
            "Epoch 79/200\n",
            "47/47 [==============================] - ETA: 0s - loss: 0.2045 - accuracy: 0.9403\n",
            "Epoch 79: val_accuracy improved from 0.86179 to 0.87805, saving model to ./weights_arsitektur2.best.hdf5\n",
            "47/47 [==============================] - 0s 9ms/step - loss: 0.2045 - accuracy: 0.9403 - val_loss: 0.3249 - val_accuracy: 0.8780\n",
            "Epoch 80/200\n",
            "47/47 [==============================] - ETA: 0s - loss: 0.2021 - accuracy: 0.9448\n",
            "Epoch 80: val_accuracy did not improve from 0.87805\n",
            "47/47 [==============================] - 0s 9ms/step - loss: 0.2021 - accuracy: 0.9448 - val_loss: 0.3235 - val_accuracy: 0.8618\n",
            "Epoch 81/200\n",
            "40/47 [========================>.....] - ETA: 0s - loss: 0.2020 - accuracy: 0.9448\n",
            "Epoch 81: val_accuracy did not improve from 0.87805\n",
            "47/47 [==============================] - 0s 8ms/step - loss: 0.1994 - accuracy: 0.9439 - val_loss: 0.3228 - val_accuracy: 0.8780\n",
            "Epoch 82/200\n",
            "44/47 [===========================>..] - ETA: 0s - loss: 0.1963 - accuracy: 0.9470\n",
            "Epoch 82: val_accuracy did not improve from 0.87805\n",
            "47/47 [==============================] - 0s 10ms/step - loss: 0.1970 - accuracy: 0.9458 - val_loss: 0.3220 - val_accuracy: 0.8780\n",
            "Epoch 83/200\n",
            "47/47 [==============================] - ETA: 0s - loss: 0.1946 - accuracy: 0.9485\n",
            "Epoch 83: val_accuracy did not improve from 0.87805\n",
            "47/47 [==============================] - 0s 10ms/step - loss: 0.1946 - accuracy: 0.9485 - val_loss: 0.3209 - val_accuracy: 0.8780\n",
            "Epoch 84/200\n",
            "45/47 [===========================>..] - ETA: 0s - loss: 0.1941 - accuracy: 0.9481\n",
            "Epoch 84: val_accuracy did not improve from 0.87805\n",
            "47/47 [==============================] - 1s 19ms/step - loss: 0.1922 - accuracy: 0.9494 - val_loss: 0.3197 - val_accuracy: 0.8699\n",
            "Epoch 85/200\n",
            "46/47 [============================>.] - ETA: 0s - loss: 0.1898 - accuracy: 0.9520\n",
            "Epoch 85: val_accuracy did not improve from 0.87805\n",
            "47/47 [==============================] - 1s 26ms/step - loss: 0.1900 - accuracy: 0.9521 - val_loss: 0.3191 - val_accuracy: 0.8780\n",
            "Epoch 86/200\n",
            "45/47 [===========================>..] - ETA: 0s - loss: 0.1879 - accuracy: 0.9500\n",
            "Epoch 86: val_accuracy did not improve from 0.87805\n",
            "47/47 [==============================] - 1s 18ms/step - loss: 0.1876 - accuracy: 0.9503 - val_loss: 0.3192 - val_accuracy: 0.8780\n",
            "Epoch 87/200\n",
            "43/47 [==========================>...] - ETA: 0s - loss: 0.1833 - accuracy: 0.9554\n",
            "Epoch 87: val_accuracy did not improve from 0.87805\n",
            "47/47 [==============================] - 1s 16ms/step - loss: 0.1850 - accuracy: 0.9548 - val_loss: 0.3183 - val_accuracy: 0.8780\n",
            "Epoch 88/200\n",
            "42/47 [=========================>....] - ETA: 0s - loss: 0.1797 - accuracy: 0.9573\n",
            "Epoch 88: val_accuracy did not improve from 0.87805\n",
            "47/47 [==============================] - 1s 11ms/step - loss: 0.1827 - accuracy: 0.9548 - val_loss: 0.3170 - val_accuracy: 0.8780\n",
            "Epoch 89/200\n",
            "42/47 [=========================>....] - ETA: 0s - loss: 0.1821 - accuracy: 0.9544\n",
            "Epoch 89: val_accuracy did not improve from 0.87805\n",
            "47/47 [==============================] - 0s 10ms/step - loss: 0.1806 - accuracy: 0.9575 - val_loss: 0.3164 - val_accuracy: 0.8780\n",
            "Epoch 90/200\n",
            "44/47 [===========================>..] - ETA: 0s - loss: 0.1763 - accuracy: 0.9631\n",
            "Epoch 90: val_accuracy did not improve from 0.87805\n",
            "47/47 [==============================] - 1s 13ms/step - loss: 0.1783 - accuracy: 0.9593 - val_loss: 0.3152 - val_accuracy: 0.8780\n",
            "Epoch 91/200\n",
            "42/47 [=========================>....] - ETA: 0s - loss: 0.1713 - accuracy: 0.9623\n",
            "Epoch 91: val_accuracy did not improve from 0.87805\n",
            "47/47 [==============================] - 0s 8ms/step - loss: 0.1761 - accuracy: 0.9584 - val_loss: 0.3143 - val_accuracy: 0.8780\n",
            "Epoch 92/200\n",
            "42/47 [=========================>....] - ETA: 0s - loss: 0.1739 - accuracy: 0.9593\n",
            "Epoch 92: val_accuracy did not improve from 0.87805\n",
            "47/47 [==============================] - 0s 8ms/step - loss: 0.1739 - accuracy: 0.9593 - val_loss: 0.3150 - val_accuracy: 0.8780\n",
            "Epoch 93/200\n",
            "45/47 [===========================>..] - ETA: 0s - loss: 0.1705 - accuracy: 0.9611\n",
            "Epoch 93: val_accuracy did not improve from 0.87805\n",
            "47/47 [==============================] - 0s 8ms/step - loss: 0.1716 - accuracy: 0.9602 - val_loss: 0.3133 - val_accuracy: 0.8780\n",
            "Epoch 94/200\n",
            "40/47 [========================>.....] - ETA: 0s - loss: 0.1691 - accuracy: 0.9615\n",
            "Epoch 94: val_accuracy did not improve from 0.87805\n",
            "47/47 [==============================] - 0s 8ms/step - loss: 0.1696 - accuracy: 0.9611 - val_loss: 0.3123 - val_accuracy: 0.8780\n",
            "Epoch 95/200\n",
            "47/47 [==============================] - ETA: 0s - loss: 0.1673 - accuracy: 0.9602\n",
            "Epoch 95: val_accuracy did not improve from 0.87805\n",
            "47/47 [==============================] - 1s 12ms/step - loss: 0.1673 - accuracy: 0.9602 - val_loss: 0.3119 - val_accuracy: 0.8780\n",
            "Epoch 96/200\n",
            "45/47 [===========================>..] - ETA: 0s - loss: 0.1654 - accuracy: 0.9593\n",
            "Epoch 96: val_accuracy did not improve from 0.87805\n",
            "47/47 [==============================] - 1s 20ms/step - loss: 0.1653 - accuracy: 0.9602 - val_loss: 0.3115 - val_accuracy: 0.8780\n",
            "Epoch 97/200\n",
            "44/47 [===========================>..] - ETA: 0s - loss: 0.1644 - accuracy: 0.9621\n",
            "Epoch 97: val_accuracy did not improve from 0.87805\n",
            "47/47 [==============================] - 1s 17ms/step - loss: 0.1631 - accuracy: 0.9629 - val_loss: 0.3111 - val_accuracy: 0.8780\n",
            "Epoch 98/200\n",
            "40/47 [========================>.....] - ETA: 0s - loss: 0.1637 - accuracy: 0.9604\n",
            "Epoch 98: val_accuracy did not improve from 0.87805\n",
            "47/47 [==============================] - 0s 11ms/step - loss: 0.1611 - accuracy: 0.9629 - val_loss: 0.3094 - val_accuracy: 0.8780\n",
            "Epoch 99/200\n",
            "46/47 [============================>.] - ETA: 0s - loss: 0.1588 - accuracy: 0.9647\n",
            "Epoch 99: val_accuracy did not improve from 0.87805\n",
            "47/47 [==============================] - 0s 10ms/step - loss: 0.1590 - accuracy: 0.9647 - val_loss: 0.3090 - val_accuracy: 0.8780\n",
            "Epoch 100/200\n",
            "45/47 [===========================>..] - ETA: 0s - loss: 0.1566 - accuracy: 0.9657\n",
            "Epoch 100: val_accuracy did not improve from 0.87805\n",
            "47/47 [==============================] - 0s 8ms/step - loss: 0.1570 - accuracy: 0.9656 - val_loss: 0.3078 - val_accuracy: 0.8780\n",
            "Epoch 101/200\n",
            "42/47 [=========================>....] - ETA: 0s - loss: 0.1573 - accuracy: 0.9643\n",
            "Epoch 101: val_accuracy did not improve from 0.87805\n",
            "47/47 [==============================] - 0s 7ms/step - loss: 0.1547 - accuracy: 0.9656 - val_loss: 0.3077 - val_accuracy: 0.8780\n",
            "Epoch 102/200\n",
            "47/47 [==============================] - ETA: 0s - loss: 0.1529 - accuracy: 0.9656\n",
            "Epoch 102: val_accuracy did not improve from 0.87805\n",
            "47/47 [==============================] - 0s 7ms/step - loss: 0.1529 - accuracy: 0.9656 - val_loss: 0.3066 - val_accuracy: 0.8780\n",
            "Epoch 103/200\n",
            "45/47 [===========================>..] - ETA: 0s - loss: 0.1490 - accuracy: 0.9685\n",
            "Epoch 103: val_accuracy did not improve from 0.87805\n",
            "47/47 [==============================] - 0s 7ms/step - loss: 0.1510 - accuracy: 0.9684 - val_loss: 0.3063 - val_accuracy: 0.8780\n",
            "Epoch 104/200\n",
            "46/47 [============================>.] - ETA: 0s - loss: 0.1480 - accuracy: 0.9674\n",
            "Epoch 104: val_accuracy did not improve from 0.87805\n",
            "47/47 [==============================] - 0s 7ms/step - loss: 0.1491 - accuracy: 0.9665 - val_loss: 0.3065 - val_accuracy: 0.8780\n",
            "Epoch 105/200\n",
            "41/47 [=========================>....] - ETA: 0s - loss: 0.1478 - accuracy: 0.9695\n",
            "Epoch 105: val_accuracy did not improve from 0.87805\n",
            "47/47 [==============================] - 0s 6ms/step - loss: 0.1471 - accuracy: 0.9702 - val_loss: 0.3047 - val_accuracy: 0.8780\n",
            "Epoch 106/200\n",
            "43/47 [==========================>...] - ETA: 0s - loss: 0.1465 - accuracy: 0.9700\n",
            "Epoch 106: val_accuracy did not improve from 0.87805\n",
            "47/47 [==============================] - 0s 8ms/step - loss: 0.1451 - accuracy: 0.9693 - val_loss: 0.3055 - val_accuracy: 0.8780\n",
            "Epoch 107/200\n",
            "41/47 [=========================>....] - ETA: 0s - loss: 0.1460 - accuracy: 0.9695\n",
            "Epoch 107: val_accuracy did not improve from 0.87805\n",
            "47/47 [==============================] - 0s 8ms/step - loss: 0.1444 - accuracy: 0.9702 - val_loss: 0.3057 - val_accuracy: 0.8780\n",
            "Epoch 108/200\n",
            "41/47 [=========================>....] - ETA: 0s - loss: 0.1408 - accuracy: 0.9715\n",
            "Epoch 108: val_accuracy did not improve from 0.87805\n",
            "47/47 [==============================] - 0s 7ms/step - loss: 0.1417 - accuracy: 0.9729 - val_loss: 0.3037 - val_accuracy: 0.8780\n",
            "Epoch 109/200\n",
            "47/47 [==============================] - ETA: 0s - loss: 0.1394 - accuracy: 0.9729\n",
            "Epoch 109: val_accuracy did not improve from 0.87805\n",
            "47/47 [==============================] - 0s 7ms/step - loss: 0.1394 - accuracy: 0.9729 - val_loss: 0.3041 - val_accuracy: 0.8780\n"
          ]
        }
      ]
    },
    {
      "cell_type": "code",
      "source": [
        "#version 5\n",
        "def plot_training_hist(history):\n",
        "    '''Function to plot history for accuracy and loss'''\n",
        "\n",
        "    fig, ax = plt.subplots(1, 2, figsize=(10,4),constrained_layout=True, sharey=True)\n",
        "    # first plot\n",
        "    fig.suptitle('CNN with Fasttext Embedding', fontsize=15)\n",
        "    ax[0].plot(history.history['accuracy'])\n",
        "    ax[0].plot(history.history['val_accuracy'])\n",
        "    ax[0].set_title('Model Accuracy')\n",
        "    ax[0].set_xlabel('epoch')\n",
        "    ax[0].set_ylabel('accuracy')\n",
        "    ax[0].legend(['train', 'validation'], loc='best')\n",
        "    # second plot\n",
        "    ax[1].plot(history.history['loss'])\n",
        "    ax[1].plot(history.history['val_loss'])\n",
        "    ax[1].set_title('Model Loss')\n",
        "    ax[1].set_xlabel('epoch')\n",
        "    ax[1].set_ylabel('loss')\n",
        "    ax[1].legend(['train', 'validation'], loc='best')\n",
        "\n",
        "plot_training_hist(history)"
      ],
      "metadata": {
        "colab": {
          "base_uri": "https://localhost:8080/",
          "height": 366
        },
        "id": "o_WsWpapBogg",
        "outputId": "060e46df-bc93-49ba-ab68-c956aa80b0c6",
        "collapsed": true
      },
      "execution_count": null,
      "outputs": [
        {
          "output_type": "display_data",
          "data": {
            "text/plain": [
              "<Figure size 1000x400 with 2 Axes>"
            ],
            "image/png": "[encoded data removed]"
          },
          "metadata": {}
        }
      ]
    },
    {
      "cell_type": "code",
      "source": [
        "#version 5\n",
        "from sklearn.metrics import confusion_matrix\n",
        "\n",
        "def plot_confusion_matrix(model, X_test, y_test):\n",
        "    '''Function to plot confusion matrix for the passed model and the data'''\n",
        "\n",
        "    classes=['False','True']\n",
        "    # use model to do the prediction\n",
        "    y_pred = model.predict(X_test)\n",
        "    # compute confusion matrix\n",
        "    cm = confusion_matrix(np.argmax(np.array(y_test),axis=1), np.argmax(y_pred, axis=1))\n",
        "    # plot confusion matrix\n",
        "    plt.figure(figsize=(8,6))\n",
        "    sns.heatmap(cm, cmap=plt.cm.Blues, annot=True, fmt='d',\n",
        "                xticklabels=classes,\n",
        "                yticklabels=classes)\n",
        "    plt.title('Confusion matrix', fontsize=16)\n",
        "    plt.xlabel('Predicted label', fontsize=12)\n",
        "    plt.ylabel('Actual label', fontsize=12)\n",
        "\n",
        "plot_confusion_matrix(model, x_test, y_test)"
      ],
      "metadata": {
        "collapsed": true,
        "colab": {
          "base_uri": "https://localhost:8080/",
          "height": 587
        },
        "id": "Tv8WINDmBtFh",
        "outputId": "f6b09718-d61b-4067-d4b7-9e179b56b0d0"
      },
      "execution_count": null,
      "outputs": [
        {
          "output_type": "stream",
          "name": "stdout",
          "text": [
            "4/4 [==============================] - 0s 6ms/step\n"
          ]
        },
        {
          "output_type": "display_data",
          "data": {
            "text/plain": [
              "<Figure size 800x600 with 2 Axes>"
            ],
            "image/png": "[encoded data removed]"
          },
          "metadata": {}
        }
      ]
    },
    {
      "cell_type": "code",
      "source": [
        "!pip install tensorflowjs"
      ],
      "metadata": {
        "id": "zCSnNKQt1V7y"
      },
      "execution_count": null,
      "outputs": []
    },
    {
      "cell_type": "code",
      "source": [
        "#Save model agar compatible dgn tensorflow.js\n",
        "import tensorflow as tf\n",
        "saved_model_path = '/content/drive/MyDrive/Capstone/tensorflow_js/Model_tfV5'\n",
        "tf.saved_model.save(model, saved_model_path)"
      ],
      "metadata": {
        "colab": {
          "base_uri": "https://localhost:8080/"
        },
        "id": "cTMiuX8D7fGu",
        "outputId": "cb1d0cdd-b4c8-4f55-cd7f-55da2358a235"
      },
      "execution_count": null,
      "outputs": [
        {
          "output_type": "stream",
          "name": "stderr",
          "text": [
            "WARNING:absl:Found untraced functions such as _jit_compiled_convolution_op, _update_step_xla while saving (showing 2 of 2). These functions will not be directly callable after loading.\n"
          ]
        }
      ]
    },
    {
      "cell_type": "code",
      "source": [
        "!tensorflowjs_converter \\\n",
        "  --input_format=tf_saved_model \\\n",
        "  /content/drive/MyDrive/Capstone/tensorflow_js/Model \\\n",
        "  /content/drive/MyDrive/Capstone/tensorflow_js/modeljs"
      ],
      "metadata": {
        "colab": {
          "base_uri": "https://localhost:8080/"
        },
        "id": "E7BgImQk8uF7",
        "outputId": "e87e0a47-4dfa-4aec-dd10-3dbb904c5a73"
      },
      "execution_count": null,
      "outputs": [
        {
          "output_type": "stream",
          "name": "stdout",
          "text": [
            "2023-06-13 03:44:43.916390: W tensorflow/compiler/tf2tensorrt/utils/py_utils.cc:38] TF-TRT Warning: Could not find TensorRT\n"
          ]
        }
      ]
    },
    {
      "cell_type": "code",
      "source": [
        "text=\"depresi\"\n",
        "text_cleaned=preprocessing(text)\n",
        "print(text_cleaned)\n",
        "word_seq = tokenizer.texts_to_sequences([text_cleaned])\n",
        "word_pad = pad_sequences(word_seq,maxlen=30)\n",
        "classes = ['Tidak Terindikasi Mental Illness', 'Terindikasi Mental Illness']\n",
        "predicted_class=model.predict(word_pad).argmax(axis=1)\n",
        "classes[predicted_class[0]]"
      ],
      "metadata": {
        "colab": {
          "base_uri": "https://localhost:8080/",
          "height": 70
        },
        "id": "VpOAfDP4HIWf",
        "outputId": "22c0f698-e72c-4678-e9e5-b4dd3267d072"
      },
      "execution_count": null,
      "outputs": [
        {
          "output_type": "stream",
          "name": "stdout",
          "text": [
            "depresi\n",
            "1/1 [==============================] - 0s 26ms/step\n"
          ]
        },
        {
          "output_type": "execute_result",
          "data": {
            "text/plain": [
              "'Terindikasi Mental Illness'"
            ],
            "application/vnd.google.colaboratory.intrinsic+json": {
              "type": "string"
            }
          },
          "metadata": {},
          "execution_count": 110
        }
      ]
    },
    {
      "cell_type": "code",
      "source": [
        "text=\"alhamdulillah banyak bersyukur hari ini dapet banyak order\"\n",
        "text=preprocessing(text)\n",
        "word_seq = tokenizer.texts_to_sequences([text])\n",
        "word_pad = pad_sequences(word_seq,maxlen=30)\n",
        "classes = ['Tidak Terindikasi Mental Illness', 'Terindikasi Mental Illness']\n",
        "predicted_class=model.predict(word_pad).argmax(axis=1)\n",
        "classes[predicted_class[0]]"
      ],
      "metadata": {
        "colab": {
          "base_uri": "https://localhost:8080/",
          "height": 52
        },
        "outputId": "45414bd8-da7a-4d24-8030-5f094b4c7616",
        "id": "QOxLEFniEKIa"
      },
      "execution_count": null,
      "outputs": [
        {
          "output_type": "stream",
          "name": "stdout",
          "text": [
            "1/1 [==============================] - 0s 75ms/step\n"
          ]
        },
        {
          "output_type": "execute_result",
          "data": {
            "text/plain": [
              "'Tidak Terindikasi Mental Illness'"
            ],
            "application/vnd.google.colaboratory.intrinsic+json": {
              "type": "string"
            }
          },
          "metadata": {},
          "execution_count": 148
        }
      ]
    },
    {
      "cell_type": "code",
      "source": [
        "text=\"yey aku dapet hadiah dari pacarku di valentine ini, mmm soswit\"\n",
        "text=preprocessing(text)\n",
        "word_seq = tokenizer.texts_to_sequences([text])\n",
        "word_pad = pad_sequences(word_seq,maxlen=30)\n",
        "classes = ['Tidak Terindikasi Mental Illness', 'Terindikasi Mental Illness']\n",
        "predicted_class=model.predict(word_pad).argmax(axis=1)\n",
        "classes[predicted_class[0]]"
      ],
      "metadata": {
        "colab": {
          "base_uri": "https://localhost:8080/",
          "height": 52
        },
        "outputId": "9f55da18-909c-4475-e3b6-07a97f8841bd",
        "id": "3P9DUUkIEKIa"
      },
      "execution_count": null,
      "outputs": [
        {
          "output_type": "stream",
          "name": "stdout",
          "text": [
            "1/1 [==============================] - 0s 120ms/step\n"
          ]
        },
        {
          "output_type": "execute_result",
          "data": {
            "text/plain": [
              "'Tidak Terindikasi Mental Illness'"
            ],
            "application/vnd.google.colaboratory.intrinsic+json": {
              "type": "string"
            }
          },
          "metadata": {},
          "execution_count": 75
        }
      ]
    },
    {
      "cell_type": "code",
      "source": [
        "text=\"gua hari ini self harm, kapan ya allah aku lepas dari semua penderitaan ini :(\"\n",
        "text=preprocessing(text)\n",
        "word_seq = tokenizer.texts_to_sequences([text])\n",
        "word_pad = pad_sequences(word_seq,maxlen=30)\n",
        "classes = ['Tidak Terindikasi Mental Illness', 'Terindikasi Mental Illness']\n",
        "predicted_class=model.predict(word_pad).argmax(axis=1)\n",
        "classes[predicted_class[0]]"
      ],
      "metadata": {
        "colab": {
          "base_uri": "https://localhost:8080/",
          "height": 52
        },
        "outputId": "eefa90f7-2d53-486e-d649-4a8b333f49dc",
        "id": "Fds6yE_lEKIa"
      },
      "execution_count": null,
      "outputs": [
        {
          "output_type": "stream",
          "name": "stdout",
          "text": [
            "1/1 [==============================] - 0s 21ms/step\n"
          ]
        },
        {
          "output_type": "execute_result",
          "data": {
            "text/plain": [
              "'Terindikasi Mental Illness'"
            ],
            "application/vnd.google.colaboratory.intrinsic+json": {
              "type": "string"
            }
          },
          "metadata": {},
          "execution_count": 74
        }
      ]
    },
    {
      "cell_type": "code",
      "source": [
        "text=\"depresi banget orang tuaku nggak ngehargai aku\"\n",
        "text=preprocessing(text)\n",
        "word_seq = tokenizer.texts_to_sequences([text])\n",
        "word_pad = pad_sequences(word_seq,maxlen=30)\n",
        "classes = ['Tidak Terindikasi Mental Illness', 'Terindikasi Mental Illness']\n",
        "predicted_class=model.predict(word_pad).argmax(axis=1)\n",
        "classes[predicted_class[0]]"
      ],
      "metadata": {
        "colab": {
          "base_uri": "https://localhost:8080/",
          "height": 52
        },
        "outputId": "2a08ef45-afae-4e3e-92a5-103e68a53f5f",
        "id": "9rHF0RbzEKIb"
      },
      "execution_count": null,
      "outputs": [
        {
          "output_type": "stream",
          "name": "stdout",
          "text": [
            "1/1 [==============================] - 0s 319ms/step\n"
          ]
        },
        {
          "output_type": "execute_result",
          "data": {
            "text/plain": [
              "'Terindikasi Mental Illness'"
            ],
            "application/vnd.google.colaboratory.intrinsic+json": {
              "type": "string"
            }
          },
          "metadata": {},
          "execution_count": 145
        }
      ]
    },
    {
      "cell_type": "code",
      "source": [
        "model_json = model.to_json()\n",
        "with open(\"/content/drive/MyDrive/Capstone/model_CNN_v5.json\", \"w\") as json_file:\n",
        "    json_file.write(model_json)\n",
        "# serialize weights to H5\n",
        "model.save_weights(\"/content/drive/MyDrive/Capstone/model_CNN_v5.h5\")\n",
        "print(\"Saved model to disk\")"
      ],
      "metadata": {
        "colab": {
          "base_uri": "https://localhost:8080/"
        },
        "outputId": "349aa6cf-232f-495e-f444-120b84027c36",
        "id": "NuxBfqOyEKIb"
      },
      "execution_count": null,
      "outputs": [
        {
          "output_type": "stream",
          "name": "stdout",
          "text": [
            "Saved model to disk\n"
          ]
        }
      ]
    },
    {
      "cell_type": "code",
      "source": [
        "model.save('/content/drive/MyDrive/Capstone/saved_model_v5')"
      ],
      "metadata": {
        "id": "-qsadoooM8eV"
      },
      "execution_count": null,
      "outputs": []
    },
    {
      "cell_type": "code",
      "source": [
        "import pickle\n",
        "\n",
        "with open('/content/drive/MyDrive/Capstone/tokenizer_CNN_v5.pickle', 'wb') as handle:\n",
        "    pickle.dump(tokenizer, handle, protocol=pickle.HIGHEST_PROTOCOL)\n",
        "\n",
        "print(\"Saved tokenizer model to disk\")"
      ],
      "metadata": {
        "colab": {
          "base_uri": "https://localhost:8080/"
        },
        "outputId": "49b77c11-4c34-4271-97ed-3eb675731a25",
        "id": "8dMeVuaJEKIb"
      },
      "execution_count": null,
      "outputs": [
        {
          "output_type": "stream",
          "name": "stdout",
          "text": [
            "Saved tokenizer model to disk\n"
          ]
        }
      ]
    },
    {
      "cell_type": "markdown",
      "source": [
        "## Load model"
      ],
      "metadata": {
        "id": "ggKL__Em80JI"
      }
    },
    {
      "cell_type": "code",
      "source": [
        "#Load model\n",
        "import pickle\n",
        "from tensorflow.keras.models import model_from_json\n",
        "from keras.utils import pad_sequences\n",
        "\n",
        "# load json and create model\n",
        "json_file = open(\"/content/drive/MyDrive/Capstone/model_CNN_v5.json\", 'r')\n",
        "loaded_model_json = json_file.read()\n",
        "json_file.close()\n",
        "loaded_model = model_from_json(loaded_model_json)\n",
        "\n",
        "# load weights into new model\n",
        "loaded_model.load_weights(\"/content/drive/MyDrive/Capstone/model_CNN_v5.h5\")\n",
        "print(\"Loaded model from disk\")\n",
        "\n",
        "with open('/content/drive/MyDrive/Capstone/tokenizer_CNN_v5.pickle', 'rb') as handle:\n",
        "    tokenizer_classification = pickle.load(handle)"
      ],
      "metadata": {
        "colab": {
          "base_uri": "https://localhost:8080/"
        },
        "id": "SKXHjGdh82Yg",
        "outputId": "6f6ceb34-d28f-4843-81f6-ae3affd55b1d"
      },
      "execution_count": null,
      "outputs": [
        {
          "output_type": "stream",
          "name": "stdout",
          "text": [
            "Loaded model from disk\n"
          ]
        }
      ]
    },
    {
      "cell_type": "code",
      "source": [
        "text=\"capek\"\n",
        "text_cleaned=preprocessing(text)\n",
        "word_seq = tokenizer_classification.texts_to_sequences([text_cleaned])\n",
        "word_pad = pad_sequences(word_seq,maxlen=30)\n",
        "classes = ['Tidak Terindikasi Mental Illness', 'Terindikasi Mental Illness']\n",
        "predicted_class=loaded_model.predict(word_pad).argmax(axis=1)\n",
        "\n",
        "\n",
        "print(\"Text: \",text)\n",
        "print(\"Text cleaned: \",text_cleaned)\n",
        "print(\"Label (Predicted): \",classes[predicted_class[0]])"
      ],
      "metadata": {
        "colab": {
          "base_uri": "https://localhost:8080/"
        },
        "id": "qEzWjJDnBhm8",
        "outputId": "af9c0758-c6c2-4325-d3ba-f83f812a499d"
      },
      "execution_count": null,
      "outputs": [
        {
          "output_type": "stream",
          "name": "stdout",
          "text": [
            "1/1 [==============================] - 0s 24ms/step\n",
            "Text:  capek\n",
            "Text cleaned:  cape\n",
            "Label (Predicted):  Tidak Terindikasi Mental Illness\n"
          ]
        }
      ]
    },
    {
      "cell_type": "code",
      "source": [
        "text=\"depresi banget orang tuaku nggak ngehargai aku\"\n",
        "text_cleaned=preprocessing(text)\n",
        "word_seq = tokenizer_classification.texts_to_sequences([text_cleaned])\n",
        "word_pad = pad_sequences(word_seq,maxlen=30)\n",
        "classes = ['Tidak Terindikasi Mental Illness', 'Terindikasi Mental Illness']\n",
        "predicted_class=loaded_model.predict(word_pad).argmax(axis=1)\n",
        "\n",
        "\n",
        "print(\"Text: \",text)\n",
        "print(\"Text cleaned: \",text_cleaned)\n",
        "print(\"Label (Predicted): \",classes[predicted_class[0]])"
      ],
      "metadata": {
        "colab": {
          "base_uri": "https://localhost:8080/"
        },
        "id": "M5jWjvKa9KIg",
        "outputId": "991f97e7-89d3-47ee-997b-2f1f3971fea8"
      },
      "execution_count": null,
      "outputs": [
        {
          "output_type": "stream",
          "name": "stdout",
          "text": [
            "1/1 [==============================] - 0s 32ms/step\n",
            "Text:  depresi banget orang tuaku nggak ngehargai aku\n",
            "Text cleaned:  depresi banget orang tua ngehargai\n",
            "Label (Predicted):  Terindikasi Mental Illness\n"
          ]
        }
      ]
    },
    {
      "cell_type": "markdown",
      "source": [
        "# Tanpa stemming"
      ],
      "metadata": {
        "id": "r7j0hmALEB8a"
      }
    },
    {
      "cell_type": "code",
      "source": [
        "epochs=20\n",
        "batch_size=64\n",
        "history=model.fit(x_train, y_train, batch_size = batch_size, validation_data=(x_test, y_test),\n",
        "                  epochs = epochs)"
      ],
      "metadata": {
        "colab": {
          "base_uri": "https://localhost:8080/"
        },
        "collapsed": true,
        "id": "KQKv2-PDR8YX",
        "outputId": "7a45b72a-f778-4168-8d62-20acd8b95aa9"
      },
      "execution_count": null,
      "outputs": [
        {
          "output_type": "stream",
          "name": "stdout",
          "text": [
            "Epoch 1/20\n",
            "16/16 [==============================] - 2s 33ms/step - loss: 0.7788 - accuracy: 0.4663 - val_loss: 0.6969 - val_accuracy: 0.5575\n",
            "Epoch 2/20\n",
            "16/16 [==============================] - 0s 14ms/step - loss: 0.6879 - accuracy: 0.5635 - val_loss: 0.6625 - val_accuracy: 0.6460\n",
            "Epoch 3/20\n",
            "16/16 [==============================] - 0s 16ms/step - loss: 0.6449 - accuracy: 0.6925 - val_loss: 0.6379 - val_accuracy: 0.6991\n",
            "Epoch 4/20\n",
            "16/16 [==============================] - 0s 14ms/step - loss: 0.6090 - accuracy: 0.7738 - val_loss: 0.6066 - val_accuracy: 0.7434\n",
            "Epoch 5/20\n",
            "16/16 [==============================] - 0s 14ms/step - loss: 0.5738 - accuracy: 0.8115 - val_loss: 0.5783 - val_accuracy: 0.8053\n",
            "Epoch 6/20\n",
            "16/16 [==============================] - 0s 14ms/step - loss: 0.5396 - accuracy: 0.8522 - val_loss: 0.5514 - val_accuracy: 0.8230\n",
            "Epoch 7/20\n",
            "16/16 [==============================] - 0s 14ms/step - loss: 0.5047 - accuracy: 0.8651 - val_loss: 0.5225 - val_accuracy: 0.8407\n",
            "Epoch 8/20\n",
            "16/16 [==============================] - 0s 14ms/step - loss: 0.4709 - accuracy: 0.8651 - val_loss: 0.4967 - val_accuracy: 0.8407\n",
            "Epoch 9/20\n",
            "16/16 [==============================] - 0s 14ms/step - loss: 0.4383 - accuracy: 0.8869 - val_loss: 0.4703 - val_accuracy: 0.8407\n",
            "Epoch 10/20\n",
            "16/16 [==============================] - 0s 14ms/step - loss: 0.4085 - accuracy: 0.8849 - val_loss: 0.4471 - val_accuracy: 0.8319\n",
            "Epoch 11/20\n",
            "16/16 [==============================] - 0s 15ms/step - loss: 0.3811 - accuracy: 0.9048 - val_loss: 0.4261 - val_accuracy: 0.8496\n",
            "Epoch 12/20\n",
            "16/16 [==============================] - 0s 14ms/step - loss: 0.3566 - accuracy: 0.8988 - val_loss: 0.4061 - val_accuracy: 0.8496\n",
            "Epoch 13/20\n",
            "16/16 [==============================] - 0s 15ms/step - loss: 0.3333 - accuracy: 0.9107 - val_loss: 0.3893 - val_accuracy: 0.8584\n",
            "Epoch 14/20\n",
            "16/16 [==============================] - 0s 15ms/step - loss: 0.3139 - accuracy: 0.9177 - val_loss: 0.3764 - val_accuracy: 0.8673\n",
            "Epoch 15/20\n",
            "16/16 [==============================] - 0s 14ms/step - loss: 0.2963 - accuracy: 0.9206 - val_loss: 0.3652 - val_accuracy: 0.8584\n",
            "Epoch 16/20\n",
            "16/16 [==============================] - 0s 13ms/step - loss: 0.2786 - accuracy: 0.9286 - val_loss: 0.3541 - val_accuracy: 0.8673\n",
            "Epoch 17/20\n",
            "16/16 [==============================] - 0s 14ms/step - loss: 0.2642 - accuracy: 0.9276 - val_loss: 0.3457 - val_accuracy: 0.8584\n",
            "Epoch 18/20\n",
            "16/16 [==============================] - 0s 14ms/step - loss: 0.2498 - accuracy: 0.9335 - val_loss: 0.3389 - val_accuracy: 0.8673\n",
            "Epoch 19/20\n",
            "16/16 [==============================] - 0s 14ms/step - loss: 0.2376 - accuracy: 0.9355 - val_loss: 0.3302 - val_accuracy: 0.8761\n",
            "Epoch 20/20\n",
            "16/16 [==============================] - 0s 14ms/step - loss: 0.2240 - accuracy: 0.9415 - val_loss: 0.3234 - val_accuracy: 0.8673\n"
          ]
        }
      ]
    },
    {
      "cell_type": "code",
      "source": [
        "def plot_training_hist(history):\n",
        "    '''Function to plot history for accuracy and loss'''\n",
        "\n",
        "    fig, ax = plt.subplots(1, 2, figsize=(10,4),constrained_layout=True, sharey=True)\n",
        "    # first plot\n",
        "    fig.suptitle('CNN with Fasttext Embedding', fontsize=15)\n",
        "    ax[0].plot(history.history['accuracy'])\n",
        "    ax[0].plot(history.history['val_accuracy'])\n",
        "    ax[0].set_title('Model Accuracy')\n",
        "    ax[0].set_xlabel('epoch')\n",
        "    ax[0].set_ylabel('accuracy')\n",
        "    ax[0].legend(['train', 'validation'], loc='best')\n",
        "    # second plot\n",
        "    ax[1].plot(history.history['loss'])\n",
        "    ax[1].plot(history.history['val_loss'])\n",
        "    ax[1].set_title('Model Loss')\n",
        "    ax[1].set_xlabel('epoch')\n",
        "    ax[1].set_ylabel('loss')\n",
        "    ax[1].legend(['train', 'validation'], loc='best')\n",
        "\n",
        "plot_training_hist(history)"
      ],
      "metadata": {
        "colab": {
          "base_uri": "https://localhost:8080/",
          "height": 428
        },
        "id": "62icLn_8SwcG",
        "outputId": "e3cc3288-cfca-4ca1-c9af-1388be91a257"
      },
      "execution_count": null,
      "outputs": [
        {
          "output_type": "display_data",
          "data": {
            "text/plain": [
              "<Figure size 1000x400 with 2 Axes>"
            ],
            "image/png": "[encoded data removed]"
          },
          "metadata": {}
        }
      ]
    },
    {
      "cell_type": "code",
      "source": [
        "from sklearn.metrics import confusion_matrix\n",
        "\n",
        "def plot_confusion_matrix(model, X_test, y_test):\n",
        "    '''Function to plot confusion matrix for the passed model and the data'''\n",
        "\n",
        "    classes=['False','True']\n",
        "    # use model to do the prediction\n",
        "    y_pred = model.predict(X_test)\n",
        "    # compute confusion matrix\n",
        "    cm = confusion_matrix(np.argmax(np.array(y_test),axis=1), np.argmax(y_pred, axis=1))\n",
        "    # plot confusion matrix\n",
        "    plt.figure(figsize=(8,6))\n",
        "    sns.heatmap(cm, cmap=plt.cm.Blues, annot=True, fmt='d',\n",
        "                xticklabels=classes,\n",
        "                yticklabels=classes)\n",
        "    plt.title('Confusion matrix', fontsize=16)\n",
        "    plt.xlabel('Actual label', fontsize=12)\n",
        "    plt.ylabel('Predicted label', fontsize=12)\n",
        "\n",
        "plot_confusion_matrix(model, x_test, y_test)"
      ],
      "metadata": {
        "colab": {
          "base_uri": "https://localhost:8080/",
          "height": 587
        },
        "id": "rdwYm5QQdHvu",
        "outputId": "27bc8d66-c94c-404c-8898-f36400422ca6"
      },
      "execution_count": null,
      "outputs": [
        {
          "output_type": "stream",
          "name": "stdout",
          "text": [
            "4/4 [==============================] - 0s 6ms/step\n"
          ]
        },
        {
          "output_type": "display_data",
          "data": {
            "text/plain": [
              "<Figure size 800x600 with 2 Axes>"
            ],
            "image/png": "[encoded data removed]"
          },
          "metadata": {}
        }
      ]
    },
    {
      "cell_type": "code",
      "source": [
        "text=\"alhamdulillah banyak bersyukur hari ini dapet banyak order\"\n",
        "text=preprocessing(text)\n",
        "word_seq = tokenizer.texts_to_sequences([text])\n",
        "word_pad = pad_sequences(word_seq,maxlen=Max_SEQUENCE_LENGTH)\n",
        "classes = ['Tidak Terindikasi Mental Illness', 'Terindikasi Mental Illness']\n",
        "predicted_class=model.predict(word_pad).argmax(axis=1)\n",
        "classes[predicted_class[0]]"
      ],
      "metadata": {
        "colab": {
          "base_uri": "https://localhost:8080/",
          "height": 52
        },
        "id": "JACeoatVStwn",
        "outputId": "13b6734e-7d7d-4659-99ed-a69573910e1d"
      },
      "execution_count": null,
      "outputs": [
        {
          "output_type": "stream",
          "name": "stdout",
          "text": [
            "1/1 [==============================] - 0s 25ms/step\n"
          ]
        },
        {
          "output_type": "execute_result",
          "data": {
            "text/plain": [
              "'Tidak Terindikasi Mental Illness'"
            ],
            "application/vnd.google.colaboratory.intrinsic+json": {
              "type": "string"
            }
          },
          "metadata": {},
          "execution_count": 89
        }
      ]
    },
    {
      "cell_type": "code",
      "source": [
        "text=\"yey aku dapet hadiah dari pacarku di valentine ini, mmm soswit\"\n",
        "text=preprocessing(text)\n",
        "word_seq = tokenizer.texts_to_sequences([text])\n",
        "word_pad = pad_sequences(word_seq,maxlen=Max_SEQUENCE_LENGTH)\n",
        "classes = ['Tidak Terindikasi Mental Illness', 'Terindikasi Mental Illness']\n",
        "predicted_class=model.predict(word_pad).argmax(axis=1)\n",
        "classes[predicted_class[0]]"
      ],
      "metadata": {
        "colab": {
          "base_uri": "https://localhost:8080/",
          "height": 52
        },
        "id": "3QXLnHsMbxj3",
        "outputId": "c3844159-7836-4034-9eb2-d5ebaa45fb83"
      },
      "execution_count": null,
      "outputs": [
        {
          "output_type": "stream",
          "name": "stdout",
          "text": [
            "1/1 [==============================] - 0s 39ms/step\n"
          ]
        },
        {
          "output_type": "execute_result",
          "data": {
            "text/plain": [
              "'Tidak Terindikasi Mental Illness'"
            ],
            "application/vnd.google.colaboratory.intrinsic+json": {
              "type": "string"
            }
          },
          "metadata": {},
          "execution_count": 92
        }
      ]
    },
    {
      "cell_type": "code",
      "source": [
        "text=\"gua hari ini self harm, kapan ya allah aku lepas dari semua penderitaan ini :(\"\n",
        "text=preprocessing(text)\n",
        "word_seq = tokenizer.texts_to_sequences([text])\n",
        "word_pad = pad_sequences(word_seq,maxlen=Max_SEQUENCE_LENGTH)\n",
        "classes = ['Tidak Terindikasi Mental Illness', 'Terindikasi Mental Illness']\n",
        "predicted_class=model.predict(word_pad).argmax(axis=1)\n",
        "classes[predicted_class[0]]"
      ],
      "metadata": {
        "colab": {
          "base_uri": "https://localhost:8080/",
          "height": 52
        },
        "id": "NK7g9Mtgb6lq",
        "outputId": "b43f6b17-3436-4dc4-aaf1-f595c1409071"
      },
      "execution_count": null,
      "outputs": [
        {
          "output_type": "stream",
          "name": "stdout",
          "text": [
            "1/1 [==============================] - 0s 24ms/step\n"
          ]
        },
        {
          "output_type": "execute_result",
          "data": {
            "text/plain": [
              "'Terindikasi Mental Illness'"
            ],
            "application/vnd.google.colaboratory.intrinsic+json": {
              "type": "string"
            }
          },
          "metadata": {},
          "execution_count": 94
        }
      ]
    },
    {
      "cell_type": "code",
      "source": [
        "text=\"depresi banget orang tuaku nggak ngehargai aku\"\n",
        "text=preprocessing(text)\n",
        "word_seq = tokenizer.texts_to_sequences([text])\n",
        "word_pad = pad_sequences(word_seq,maxlen=Max_SEQUENCE_LENGTH)\n",
        "classes = ['Tidak Terindikasi Mental Illness', 'Terindikasi Mental Illness']\n",
        "predicted_class=model.predict(word_pad).argmax(axis=1)\n",
        "classes[predicted_class[0]]"
      ],
      "metadata": {
        "colab": {
          "base_uri": "https://localhost:8080/",
          "height": 52
        },
        "outputId": "3eaa1821-aa32-47f8-fce3-3bbfadd727c8",
        "id": "Hvm-O0H-U_T2"
      },
      "execution_count": null,
      "outputs": [
        {
          "output_type": "stream",
          "name": "stdout",
          "text": [
            "1/1 [==============================] - 0s 40ms/step\n"
          ]
        },
        {
          "output_type": "execute_result",
          "data": {
            "text/plain": [
              "'Terindikasi Mental Illness'"
            ],
            "application/vnd.google.colaboratory.intrinsic+json": {
              "type": "string"
            }
          },
          "metadata": {},
          "execution_count": 88
        }
      ]
    },
    {
      "cell_type": "code",
      "source": [
        "model_json = model.to_json()\n",
        "with open(\"/content/drive/MyDrive/Capstone/model_CNN.json\", \"w\") as json_file:\n",
        "    json_file.write(model_json)\n",
        "# serialize weights to H5\n",
        "model.save_weights(\"/content/drive/MyDrive/Capstone/model_CNN.h5\")\n",
        "print(\"Saved model to disk\")"
      ],
      "metadata": {
        "colab": {
          "base_uri": "https://localhost:8080/"
        },
        "id": "WPw-kVxXdSsE",
        "outputId": "e1c31ca6-a8db-4da7-b0e1-d9233ade2162"
      },
      "execution_count": null,
      "outputs": [
        {
          "output_type": "stream",
          "name": "stdout",
          "text": [
            "Saved model to disk\n"
          ]
        }
      ]
    },
    {
      "cell_type": "code",
      "source": [
        "import pickle\n",
        "\n",
        "with open('/content/drive/MyDrive/Capstone/tokenizer_CNN.pickle', 'wb') as handle:\n",
        "    pickle.dump(tokenizer, handle, protocol=pickle.HIGHEST_PROTOCOL)\n",
        "\n",
        "print(\"Saved tokenizer model to disk\")"
      ],
      "metadata": {
        "colab": {
          "base_uri": "https://localhost:8080/"
        },
        "id": "o5pfj7O9dirF",
        "outputId": "3e5570ef-c454-442c-bb8a-8744cd1ed4e6"
      },
      "execution_count": null,
      "outputs": [
        {
          "output_type": "stream",
          "name": "stdout",
          "text": [
            "Saved tokenizer model to disk\n"
          ]
        }
      ]
    },
    {
      "cell_type": "markdown",
      "source": [
        "# arsitektur 2"
      ],
      "metadata": {
        "id": "pNeBvSyC1GXb"
      }
    },
    {
      "cell_type": "code",
      "source": [
        "# load pre-trained word embeddings into an Embedding layer\n",
        "embedding_layer = Embedding(num_words,\n",
        "                            EMBEDDING_DIM,\n",
        "                            weights=[embedding_matrix],\n",
        "                            input_length=Max_SEQUENCE_LENGTH,\n",
        "                            trainable=False)\n",
        "# train a 1D convnet with global maxpooling\n",
        "model_2 = Sequential()\n",
        "model_2.add(embedding_layer)\n",
        "model_2.add(Conv1D(64, 5, activation='relu'))\n",
        "model_2.add(Conv1D(32,5,activation='relu'))\n",
        "model_2.add(Dropout(0.2))\n",
        "model_2.add(MaxPooling1D()),\n",
        "model_2.add(Flatten())\n",
        "model_2.add(Dense(32, activation='relu')),\n",
        "model_2.add(Dense(2, activation='sigmoid'))\n",
        "\n",
        "filepath=\"./weights_arsitektur2.best.hdf5\"\n",
        "\n",
        "es = EarlyStopping(monitor='val_accuracy', patience=10)\n",
        "checkpoint = ModelCheckpoint(filepath, monitor='val_accuracy', save_best_only=True, mode='max',verbose=1)\n",
        "callbacks_list = [es,checkpoint]\n",
        "\n",
        "model_2.compile(optimizer = keras.optimizers.Adam(learning_rate = 0.001), loss = 'binary_crossentropy', metrics = ['accuracy'])"
      ],
      "metadata": {
        "id": "pxlrwEJFU2WH"
      },
      "execution_count": null,
      "outputs": []
    },
    {
      "cell_type": "code",
      "source": [
        "epochs=50\n",
        "batch_size=64\n",
        "history_2=model_2.fit(x_train, y_train, batch_size = batch_size, validation_data=(x_test, y_test),\n",
        "                      epochs = epochs,callbacks=callbacks_list,verbose=1)"
      ],
      "metadata": {
        "colab": {
          "base_uri": "https://localhost:8080/"
        },
        "collapsed": true,
        "outputId": "4e34c716-b5cf-4c90-8e63-1990e90e9e99",
        "id": "GopcXzX-U_T0"
      },
      "execution_count": null,
      "outputs": [
        {
          "output_type": "stream",
          "name": "stdout",
          "text": [
            "Epoch 1/50\n",
            "15/16 [===========================>..] - ETA: 0s - loss: 0.6746 - accuracy: 0.6323\n",
            "Epoch 1: val_accuracy improved from -inf to 0.72566, saving model to ./weights_arsitektur2.best.hdf5\n",
            "16/16 [==============================] - 2s 54ms/step - loss: 0.6723 - accuracy: 0.6329 - val_loss: 0.6041 - val_accuracy: 0.7257\n",
            "Epoch 2/50\n",
            "16/16 [==============================] - ETA: 0s - loss: 0.5589 - accuracy: 0.7173\n",
            "Epoch 2: val_accuracy improved from 0.72566 to 0.83186, saving model to ./weights_arsitektur2.best.hdf5\n",
            "16/16 [==============================] - 1s 41ms/step - loss: 0.5589 - accuracy: 0.7173 - val_loss: 0.4319 - val_accuracy: 0.8319\n",
            "Epoch 3/50\n",
            "15/16 [===========================>..] - ETA: 0s - loss: 0.3932 - accuracy: 0.8250\n",
            "Epoch 3: val_accuracy improved from 0.83186 to 0.85841, saving model to ./weights_arsitektur2.best.hdf5\n",
            "16/16 [==============================] - 1s 40ms/step - loss: 0.3907 - accuracy: 0.8274 - val_loss: 0.3170 - val_accuracy: 0.8584\n",
            "Epoch 4/50\n",
            "15/16 [===========================>..] - ETA: 0s - loss: 0.2735 - accuracy: 0.8927\n",
            "Epoch 4: val_accuracy improved from 0.85841 to 0.89381, saving model to ./weights_arsitektur2.best.hdf5\n",
            "16/16 [==============================] - 1s 41ms/step - loss: 0.2746 - accuracy: 0.8929 - val_loss: 0.2619 - val_accuracy: 0.8938\n",
            "Epoch 5/50\n",
            "15/16 [===========================>..] - ETA: 0s - loss: 0.2094 - accuracy: 0.9250\n",
            "Epoch 5: val_accuracy did not improve from 0.89381\n",
            "16/16 [==============================] - 1s 45ms/step - loss: 0.2078 - accuracy: 0.9236 - val_loss: 0.3213 - val_accuracy: 0.8496\n",
            "Epoch 6/50\n",
            "15/16 [===========================>..] - ETA: 0s - loss: 0.1816 - accuracy: 0.9292\n",
            "Epoch 6: val_accuracy did not improve from 0.89381\n",
            "16/16 [==============================] - 1s 42ms/step - loss: 0.1802 - accuracy: 0.9296 - val_loss: 0.2704 - val_accuracy: 0.8673\n",
            "Epoch 7/50\n",
            "15/16 [===========================>..] - ETA: 0s - loss: 0.1485 - accuracy: 0.9469\n",
            "Epoch 7: val_accuracy improved from 0.89381 to 0.92035, saving model to ./weights_arsitektur2.best.hdf5\n",
            "16/16 [==============================] - 1s 41ms/step - loss: 0.1478 - accuracy: 0.9454 - val_loss: 0.2429 - val_accuracy: 0.9204\n",
            "Epoch 8/50\n",
            "16/16 [==============================] - ETA: 0s - loss: 0.1037 - accuracy: 0.9762\n",
            "Epoch 8: val_accuracy did not improve from 0.92035\n",
            "16/16 [==============================] - 1s 66ms/step - loss: 0.1037 - accuracy: 0.9762 - val_loss: 0.2387 - val_accuracy: 0.9027\n",
            "Epoch 9/50\n",
            "16/16 [==============================] - ETA: 0s - loss: 0.0616 - accuracy: 0.9931\n",
            "Epoch 9: val_accuracy improved from 0.92035 to 0.92920, saving model to ./weights_arsitektur2.best.hdf5\n",
            "16/16 [==============================] - 1s 83ms/step - loss: 0.0616 - accuracy: 0.9931 - val_loss: 0.2292 - val_accuracy: 0.9292\n",
            "Epoch 10/50\n",
            "15/16 [===========================>..] - ETA: 0s - loss: 0.0454 - accuracy: 0.9937\n",
            "Epoch 10: val_accuracy did not improve from 0.92920\n",
            "16/16 [==============================] - 1s 74ms/step - loss: 0.0441 - accuracy: 0.9940 - val_loss: 0.2206 - val_accuracy: 0.9292\n",
            "Epoch 11/50\n",
            "15/16 [===========================>..] - ETA: 0s - loss: 0.0295 - accuracy: 0.9990\n",
            "Epoch 11: val_accuracy did not improve from 0.92920\n",
            "16/16 [==============================] - 1s 73ms/step - loss: 0.0292 - accuracy: 0.9990 - val_loss: 0.2429 - val_accuracy: 0.9292\n",
            "Epoch 12/50\n",
            "16/16 [==============================] - ETA: 0s - loss: 0.0190 - accuracy: 0.9990\n",
            "Epoch 12: val_accuracy did not improve from 0.92920\n",
            "16/16 [==============================] - 1s 47ms/step - loss: 0.0190 - accuracy: 0.9990 - val_loss: 0.2337 - val_accuracy: 0.9204\n",
            "Epoch 13/50\n",
            "15/16 [===========================>..] - ETA: 0s - loss: 0.0132 - accuracy: 1.0000\n",
            "Epoch 13: val_accuracy did not improve from 0.92920\n",
            "16/16 [==============================] - 1s 42ms/step - loss: 0.0132 - accuracy: 1.0000 - val_loss: 0.2312 - val_accuracy: 0.9204\n",
            "Epoch 14/50\n",
            "16/16 [==============================] - ETA: 0s - loss: 0.0092 - accuracy: 1.0000\n",
            "Epoch 14: val_accuracy did not improve from 0.92920\n",
            "16/16 [==============================] - 1s 45ms/step - loss: 0.0092 - accuracy: 1.0000 - val_loss: 0.2396 - val_accuracy: 0.9204\n",
            "Epoch 15/50\n",
            "16/16 [==============================] - ETA: 0s - loss: 0.0087 - accuracy: 1.0000\n",
            "Epoch 15: val_accuracy did not improve from 0.92920\n",
            "16/16 [==============================] - 1s 45ms/step - loss: 0.0087 - accuracy: 1.0000 - val_loss: 0.2467 - val_accuracy: 0.9292\n",
            "Epoch 16/50\n",
            "15/16 [===========================>..] - ETA: 0s - loss: 0.0062 - accuracy: 1.0000\n",
            "Epoch 16: val_accuracy did not improve from 0.92920\n",
            "16/16 [==============================] - 1s 42ms/step - loss: 0.0061 - accuracy: 1.0000 - val_loss: 0.2547 - val_accuracy: 0.9204\n",
            "Epoch 17/50\n",
            "15/16 [===========================>..] - ETA: 0s - loss: 0.0045 - accuracy: 1.0000\n",
            "Epoch 17: val_accuracy did not improve from 0.92920\n",
            "16/16 [==============================] - 1s 47ms/step - loss: 0.0044 - accuracy: 1.0000 - val_loss: 0.2565 - val_accuracy: 0.9204\n",
            "Epoch 18/50\n",
            "15/16 [===========================>..] - ETA: 0s - loss: 0.0040 - accuracy: 1.0000\n",
            "Epoch 18: val_accuracy did not improve from 0.92920\n",
            "16/16 [==============================] - 1s 43ms/step - loss: 0.0039 - accuracy: 1.0000 - val_loss: 0.2537 - val_accuracy: 0.9204\n",
            "Epoch 19/50\n",
            "16/16 [==============================] - ETA: 0s - loss: 0.0035 - accuracy: 1.0000\n",
            "Epoch 19: val_accuracy did not improve from 0.92920\n",
            "16/16 [==============================] - 1s 43ms/step - loss: 0.0035 - accuracy: 1.0000 - val_loss: 0.2652 - val_accuracy: 0.9204\n"
          ]
        }
      ]
    },
    {
      "cell_type": "code",
      "source": [
        "plot_training_hist(history_2)"
      ],
      "metadata": {
        "colab": {
          "base_uri": "https://localhost:8080/",
          "height": 428
        },
        "outputId": "27866c3d-475d-43c5-ae90-3b3c02ea88eb",
        "id": "xOoj7y1vU_T1"
      },
      "execution_count": null,
      "outputs": [
        {
          "output_type": "display_data",
          "data": {
            "text/plain": [
              "<Figure size 1000x400 with 2 Axes>"
            ],
            "image/png": "[encoded data removed]"
          },
          "metadata": {}
        }
      ]
    },
    {
      "cell_type": "code",
      "source": [
        "text=\"alhamdulillah banyak bersyukur hari ini dapet banyak order\"\n",
        "text=preprocessing(text)\n",
        "word_seq = tokenizer.texts_to_sequences([text])\n",
        "word_pad = pad_sequences(word_seq,maxlen=Max_SEQUENCE_LENGTH)\n",
        "classes = ['Tidak Terindikasi Mental Illness', 'Terindikasi Mental Illness']\n",
        "predicted_class=model.predict(word_pad).argmax(axis=1)\n",
        "classes[predicted_class[0]]"
      ],
      "metadata": {
        "colab": {
          "base_uri": "https://localhost:8080/",
          "height": 52
        },
        "outputId": "8d9dbe56-4dd5-4244-b634-0751a7ccb51d",
        "id": "hio5_mh8bq61"
      },
      "execution_count": null,
      "outputs": [
        {
          "output_type": "stream",
          "name": "stdout",
          "text": [
            "1/1 [==============================] - 0s 27ms/step\n"
          ]
        },
        {
          "output_type": "execute_result",
          "data": {
            "text/plain": [
              "'Terindikasi Mental Illness'"
            ],
            "application/vnd.google.colaboratory.intrinsic+json": {
              "type": "string"
            }
          },
          "metadata": {},
          "execution_count": 90
        }
      ]
    },
    {
      "cell_type": "code",
      "source": [
        "text=\"depresi banget orang tuaku nggak ngehargai aku\"\n",
        "text=preprocessing(text)\n",
        "word_seq = tokenizer.texts_to_sequences([text])\n",
        "word_pad = pad_sequences(word_seq,maxlen=Max_SEQUENCE_LENGTH)\n",
        "classes = ['Tidak Terindikasi Mental Illness', 'Terindikasi Mental Illness']\n",
        "predicted_class=model.predict(word_pad).argmax(axis=1)\n",
        "classes[predicted_class[0]]"
      ],
      "metadata": {
        "colab": {
          "base_uri": "https://localhost:8080/",
          "height": 52
        },
        "outputId": "6577c688-496a-43a3-d7d4-81aac4363c65",
        "id": "EPymA3Kbbq68"
      },
      "execution_count": null,
      "outputs": [
        {
          "output_type": "stream",
          "name": "stdout",
          "text": [
            "1/1 [==============================] - 0s 39ms/step\n"
          ]
        },
        {
          "output_type": "execute_result",
          "data": {
            "text/plain": [
              "'Terindikasi Mental Illness'"
            ],
            "application/vnd.google.colaboratory.intrinsic+json": {
              "type": "string"
            }
          },
          "metadata": {},
          "execution_count": 91
        }
      ]
    },
    {
      "cell_type": "code",
      "source": [
        "text=\"yey aku dapet hadiah dari pacarku di valentine ini, mmm soswit\"\n",
        "text=preprocessing(text)\n",
        "word_seq = tokenizer.texts_to_sequences([text])\n",
        "word_pad = pad_sequences(word_seq,maxlen=Max_SEQUENCE_LENGTH)\n",
        "classes = ['Tidak Terindikasi Mental Illness', 'Terindikasi Mental Illness']\n",
        "predicted_class=model.predict(word_pad).argmax(axis=1)\n",
        "classes[predicted_class[0]]"
      ],
      "metadata": {
        "colab": {
          "base_uri": "https://localhost:8080/",
          "height": 52
        },
        "id": "2UHWwgj1dyAn",
        "outputId": "992ea3c3-e6ad-4b52-a990-341e9b73f43b"
      },
      "execution_count": null,
      "outputs": [
        {
          "output_type": "stream",
          "name": "stdout",
          "text": [
            "1/1 [==============================] - 0s 23ms/step\n"
          ]
        },
        {
          "output_type": "execute_result",
          "data": {
            "text/plain": [
              "'Terindikasi Mental Illness'"
            ],
            "application/vnd.google.colaboratory.intrinsic+json": {
              "type": "string"
            }
          },
          "metadata": {},
          "execution_count": 99
        }
      ]
    },
    {
      "cell_type": "markdown",
      "source": [
        "model jelek karena lossnya semakin naik"
      ],
      "metadata": {
        "id": "eN24xueLcpCf"
      }
    }
  ]
}